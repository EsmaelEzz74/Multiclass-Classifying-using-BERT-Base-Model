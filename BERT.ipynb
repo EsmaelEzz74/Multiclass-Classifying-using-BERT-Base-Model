{
  "nbformat": 4,
  "nbformat_minor": 0,
  "metadata": {
    "colab": {
      "provenance": [],
      "gpuType": "T4",
      "authorship_tag": "ABX9TyM7nlMJsT0shcvO0FlEevcN",
      "include_colab_link": true
    },
    "kernelspec": {
      "name": "python3",
      "display_name": "Python 3"
    },
    "language_info": {
      "name": "python"
    },
    "accelerator": "GPU"
  },
  "cells": [
    {
      "cell_type": "markdown",
      "metadata": {
        "id": "view-in-github",
        "colab_type": "text"
      },
      "source": [
        "<a href=\"https://colab.research.google.com/github/EsmaelEzz74/Multiclass-Classifying-using-BERT-Base-Model/blob/main/BERT.ipynb\" target=\"_parent\"><img src=\"https://colab.research.google.com/assets/colab-badge.svg\" alt=\"Open In Colab\"/></a>"
      ]
    },
    {
      "cell_type": "markdown",
      "source": [
        "# **Installing the Necessary Libraries**"
      ],
      "metadata": {
        "id": "KSf1zES44ltr"
      }
    },
    {
      "cell_type": "code",
      "source": [
        "!pip install tensorflow\n",
        "!pip install bert-tensorflow\n",
        "!pip install --upgrade tensorflow\n",
        "!pip install --upgrade tensorflow-hub\n",
        "!pip install transformers\n",
        "!pip install bert-tensorflow"
      ],
      "metadata": {
        "colab": {
          "base_uri": "https://localhost:8080/"
        },
        "id": "Qm5ICw9HvSOC",
        "outputId": "7bbd60a7-94e4-4e40-a5cb-24e9535e80fa"
      },
      "execution_count": 1,
      "outputs": [
        {
          "output_type": "stream",
          "name": "stdout",
          "text": [
            "Looking in indexes: https://pypi.org/simple, https://us-python.pkg.dev/colab-wheels/public/simple/\n",
            "Requirement already satisfied: tensorflow in /usr/local/lib/python3.10/dist-packages (2.12.0)\n",
            "Requirement already satisfied: absl-py>=1.0.0 in /usr/local/lib/python3.10/dist-packages (from tensorflow) (1.4.0)\n",
            "Requirement already satisfied: astunparse>=1.6.0 in /usr/local/lib/python3.10/dist-packages (from tensorflow) (1.6.3)\n",
            "Requirement already satisfied: flatbuffers>=2.0 in /usr/local/lib/python3.10/dist-packages (from tensorflow) (23.3.3)\n",
            "Requirement already satisfied: gast<=0.4.0,>=0.2.1 in /usr/local/lib/python3.10/dist-packages (from tensorflow) (0.4.0)\n",
            "Requirement already satisfied: google-pasta>=0.1.1 in /usr/local/lib/python3.10/dist-packages (from tensorflow) (0.2.0)\n",
            "Requirement already satisfied: grpcio<2.0,>=1.24.3 in /usr/local/lib/python3.10/dist-packages (from tensorflow) (1.54.0)\n",
            "Requirement already satisfied: h5py>=2.9.0 in /usr/local/lib/python3.10/dist-packages (from tensorflow) (3.8.0)\n",
            "Requirement already satisfied: jax>=0.3.15 in /usr/local/lib/python3.10/dist-packages (from tensorflow) (0.4.10)\n",
            "Requirement already satisfied: keras<2.13,>=2.12.0 in /usr/local/lib/python3.10/dist-packages (from tensorflow) (2.12.0)\n",
            "Requirement already satisfied: libclang>=13.0.0 in /usr/local/lib/python3.10/dist-packages (from tensorflow) (16.0.0)\n",
            "Requirement already satisfied: numpy<1.24,>=1.22 in /usr/local/lib/python3.10/dist-packages (from tensorflow) (1.22.4)\n",
            "Requirement already satisfied: opt-einsum>=2.3.2 in /usr/local/lib/python3.10/dist-packages (from tensorflow) (3.3.0)\n",
            "Requirement already satisfied: packaging in /usr/local/lib/python3.10/dist-packages (from tensorflow) (23.1)\n",
            "Requirement already satisfied: protobuf!=4.21.0,!=4.21.1,!=4.21.2,!=4.21.3,!=4.21.4,!=4.21.5,<5.0.0dev,>=3.20.3 in /usr/local/lib/python3.10/dist-packages (from tensorflow) (3.20.3)\n",
            "Requirement already satisfied: setuptools in /usr/local/lib/python3.10/dist-packages (from tensorflow) (67.7.2)\n",
            "Requirement already satisfied: six>=1.12.0 in /usr/local/lib/python3.10/dist-packages (from tensorflow) (1.16.0)\n",
            "Requirement already satisfied: tensorboard<2.13,>=2.12 in /usr/local/lib/python3.10/dist-packages (from tensorflow) (2.12.2)\n",
            "Requirement already satisfied: tensorflow-estimator<2.13,>=2.12.0 in /usr/local/lib/python3.10/dist-packages (from tensorflow) (2.12.0)\n",
            "Requirement already satisfied: termcolor>=1.1.0 in /usr/local/lib/python3.10/dist-packages (from tensorflow) (2.3.0)\n",
            "Requirement already satisfied: typing-extensions>=3.6.6 in /usr/local/lib/python3.10/dist-packages (from tensorflow) (4.5.0)\n",
            "Requirement already satisfied: wrapt<1.15,>=1.11.0 in /usr/local/lib/python3.10/dist-packages (from tensorflow) (1.14.1)\n",
            "Requirement already satisfied: tensorflow-io-gcs-filesystem>=0.23.1 in /usr/local/lib/python3.10/dist-packages (from tensorflow) (0.32.0)\n",
            "Requirement already satisfied: wheel<1.0,>=0.23.0 in /usr/local/lib/python3.10/dist-packages (from astunparse>=1.6.0->tensorflow) (0.40.0)\n",
            "Requirement already satisfied: ml-dtypes>=0.1.0 in /usr/local/lib/python3.10/dist-packages (from jax>=0.3.15->tensorflow) (0.1.0)\n",
            "Requirement already satisfied: scipy>=1.7 in /usr/local/lib/python3.10/dist-packages (from jax>=0.3.15->tensorflow) (1.10.1)\n",
            "Requirement already satisfied: google-auth<3,>=1.6.3 in /usr/local/lib/python3.10/dist-packages (from tensorboard<2.13,>=2.12->tensorflow) (2.17.3)\n",
            "Requirement already satisfied: google-auth-oauthlib<1.1,>=0.5 in /usr/local/lib/python3.10/dist-packages (from tensorboard<2.13,>=2.12->tensorflow) (1.0.0)\n",
            "Requirement already satisfied: markdown>=2.6.8 in /usr/local/lib/python3.10/dist-packages (from tensorboard<2.13,>=2.12->tensorflow) (3.4.3)\n",
            "Requirement already satisfied: requests<3,>=2.21.0 in /usr/local/lib/python3.10/dist-packages (from tensorboard<2.13,>=2.12->tensorflow) (2.27.1)\n",
            "Requirement already satisfied: tensorboard-data-server<0.8.0,>=0.7.0 in /usr/local/lib/python3.10/dist-packages (from tensorboard<2.13,>=2.12->tensorflow) (0.7.0)\n",
            "Requirement already satisfied: tensorboard-plugin-wit>=1.6.0 in /usr/local/lib/python3.10/dist-packages (from tensorboard<2.13,>=2.12->tensorflow) (1.8.1)\n",
            "Requirement already satisfied: werkzeug>=1.0.1 in /usr/local/lib/python3.10/dist-packages (from tensorboard<2.13,>=2.12->tensorflow) (2.3.0)\n",
            "Requirement already satisfied: cachetools<6.0,>=2.0.0 in /usr/local/lib/python3.10/dist-packages (from google-auth<3,>=1.6.3->tensorboard<2.13,>=2.12->tensorflow) (5.3.0)\n",
            "Requirement already satisfied: pyasn1-modules>=0.2.1 in /usr/local/lib/python3.10/dist-packages (from google-auth<3,>=1.6.3->tensorboard<2.13,>=2.12->tensorflow) (0.3.0)\n",
            "Requirement already satisfied: rsa<5,>=3.1.4 in /usr/local/lib/python3.10/dist-packages (from google-auth<3,>=1.6.3->tensorboard<2.13,>=2.12->tensorflow) (4.9)\n",
            "Requirement already satisfied: requests-oauthlib>=0.7.0 in /usr/local/lib/python3.10/dist-packages (from google-auth-oauthlib<1.1,>=0.5->tensorboard<2.13,>=2.12->tensorflow) (1.3.1)\n",
            "Requirement already satisfied: urllib3<1.27,>=1.21.1 in /usr/local/lib/python3.10/dist-packages (from requests<3,>=2.21.0->tensorboard<2.13,>=2.12->tensorflow) (1.26.15)\n",
            "Requirement already satisfied: certifi>=2017.4.17 in /usr/local/lib/python3.10/dist-packages (from requests<3,>=2.21.0->tensorboard<2.13,>=2.12->tensorflow) (2022.12.7)\n",
            "Requirement already satisfied: charset-normalizer~=2.0.0 in /usr/local/lib/python3.10/dist-packages (from requests<3,>=2.21.0->tensorboard<2.13,>=2.12->tensorflow) (2.0.12)\n",
            "Requirement already satisfied: idna<4,>=2.5 in /usr/local/lib/python3.10/dist-packages (from requests<3,>=2.21.0->tensorboard<2.13,>=2.12->tensorflow) (3.4)\n",
            "Requirement already satisfied: MarkupSafe>=2.1.1 in /usr/local/lib/python3.10/dist-packages (from werkzeug>=1.0.1->tensorboard<2.13,>=2.12->tensorflow) (2.1.2)\n",
            "Requirement already satisfied: pyasn1<0.6.0,>=0.4.6 in /usr/local/lib/python3.10/dist-packages (from pyasn1-modules>=0.2.1->google-auth<3,>=1.6.3->tensorboard<2.13,>=2.12->tensorflow) (0.5.0)\n",
            "Requirement already satisfied: oauthlib>=3.0.0 in /usr/local/lib/python3.10/dist-packages (from requests-oauthlib>=0.7.0->google-auth-oauthlib<1.1,>=0.5->tensorboard<2.13,>=2.12->tensorflow) (3.2.2)\n",
            "Looking in indexes: https://pypi.org/simple, https://us-python.pkg.dev/colab-wheels/public/simple/\n",
            "Requirement already satisfied: bert-tensorflow in /usr/local/lib/python3.10/dist-packages (1.0.4)\n",
            "Requirement already satisfied: six in /usr/local/lib/python3.10/dist-packages (from bert-tensorflow) (1.16.0)\n",
            "Looking in indexes: https://pypi.org/simple, https://us-python.pkg.dev/colab-wheels/public/simple/\n",
            "Requirement already satisfied: tensorflow in /usr/local/lib/python3.10/dist-packages (2.12.0)\n",
            "Requirement already satisfied: absl-py>=1.0.0 in /usr/local/lib/python3.10/dist-packages (from tensorflow) (1.4.0)\n",
            "Requirement already satisfied: astunparse>=1.6.0 in /usr/local/lib/python3.10/dist-packages (from tensorflow) (1.6.3)\n",
            "Requirement already satisfied: flatbuffers>=2.0 in /usr/local/lib/python3.10/dist-packages (from tensorflow) (23.3.3)\n",
            "Requirement already satisfied: gast<=0.4.0,>=0.2.1 in /usr/local/lib/python3.10/dist-packages (from tensorflow) (0.4.0)\n",
            "Requirement already satisfied: google-pasta>=0.1.1 in /usr/local/lib/python3.10/dist-packages (from tensorflow) (0.2.0)\n",
            "Requirement already satisfied: grpcio<2.0,>=1.24.3 in /usr/local/lib/python3.10/dist-packages (from tensorflow) (1.54.0)\n",
            "Requirement already satisfied: h5py>=2.9.0 in /usr/local/lib/python3.10/dist-packages (from tensorflow) (3.8.0)\n",
            "Requirement already satisfied: jax>=0.3.15 in /usr/local/lib/python3.10/dist-packages (from tensorflow) (0.4.10)\n",
            "Requirement already satisfied: keras<2.13,>=2.12.0 in /usr/local/lib/python3.10/dist-packages (from tensorflow) (2.12.0)\n",
            "Requirement already satisfied: libclang>=13.0.0 in /usr/local/lib/python3.10/dist-packages (from tensorflow) (16.0.0)\n",
            "Requirement already satisfied: numpy<1.24,>=1.22 in /usr/local/lib/python3.10/dist-packages (from tensorflow) (1.22.4)\n",
            "Requirement already satisfied: opt-einsum>=2.3.2 in /usr/local/lib/python3.10/dist-packages (from tensorflow) (3.3.0)\n",
            "Requirement already satisfied: packaging in /usr/local/lib/python3.10/dist-packages (from tensorflow) (23.1)\n",
            "Requirement already satisfied: protobuf!=4.21.0,!=4.21.1,!=4.21.2,!=4.21.3,!=4.21.4,!=4.21.5,<5.0.0dev,>=3.20.3 in /usr/local/lib/python3.10/dist-packages (from tensorflow) (3.20.3)\n",
            "Requirement already satisfied: setuptools in /usr/local/lib/python3.10/dist-packages (from tensorflow) (67.7.2)\n",
            "Requirement already satisfied: six>=1.12.0 in /usr/local/lib/python3.10/dist-packages (from tensorflow) (1.16.0)\n",
            "Requirement already satisfied: tensorboard<2.13,>=2.12 in /usr/local/lib/python3.10/dist-packages (from tensorflow) (2.12.2)\n",
            "Requirement already satisfied: tensorflow-estimator<2.13,>=2.12.0 in /usr/local/lib/python3.10/dist-packages (from tensorflow) (2.12.0)\n",
            "Requirement already satisfied: termcolor>=1.1.0 in /usr/local/lib/python3.10/dist-packages (from tensorflow) (2.3.0)\n",
            "Requirement already satisfied: typing-extensions>=3.6.6 in /usr/local/lib/python3.10/dist-packages (from tensorflow) (4.5.0)\n",
            "Requirement already satisfied: wrapt<1.15,>=1.11.0 in /usr/local/lib/python3.10/dist-packages (from tensorflow) (1.14.1)\n",
            "Requirement already satisfied: tensorflow-io-gcs-filesystem>=0.23.1 in /usr/local/lib/python3.10/dist-packages (from tensorflow) (0.32.0)\n",
            "Requirement already satisfied: wheel<1.0,>=0.23.0 in /usr/local/lib/python3.10/dist-packages (from astunparse>=1.6.0->tensorflow) (0.40.0)\n",
            "Requirement already satisfied: ml-dtypes>=0.1.0 in /usr/local/lib/python3.10/dist-packages (from jax>=0.3.15->tensorflow) (0.1.0)\n",
            "Requirement already satisfied: scipy>=1.7 in /usr/local/lib/python3.10/dist-packages (from jax>=0.3.15->tensorflow) (1.10.1)\n",
            "Requirement already satisfied: google-auth<3,>=1.6.3 in /usr/local/lib/python3.10/dist-packages (from tensorboard<2.13,>=2.12->tensorflow) (2.17.3)\n",
            "Requirement already satisfied: google-auth-oauthlib<1.1,>=0.5 in /usr/local/lib/python3.10/dist-packages (from tensorboard<2.13,>=2.12->tensorflow) (1.0.0)\n",
            "Requirement already satisfied: markdown>=2.6.8 in /usr/local/lib/python3.10/dist-packages (from tensorboard<2.13,>=2.12->tensorflow) (3.4.3)\n",
            "Requirement already satisfied: requests<3,>=2.21.0 in /usr/local/lib/python3.10/dist-packages (from tensorboard<2.13,>=2.12->tensorflow) (2.27.1)\n",
            "Requirement already satisfied: tensorboard-data-server<0.8.0,>=0.7.0 in /usr/local/lib/python3.10/dist-packages (from tensorboard<2.13,>=2.12->tensorflow) (0.7.0)\n",
            "Requirement already satisfied: tensorboard-plugin-wit>=1.6.0 in /usr/local/lib/python3.10/dist-packages (from tensorboard<2.13,>=2.12->tensorflow) (1.8.1)\n",
            "Requirement already satisfied: werkzeug>=1.0.1 in /usr/local/lib/python3.10/dist-packages (from tensorboard<2.13,>=2.12->tensorflow) (2.3.0)\n",
            "Requirement already satisfied: cachetools<6.0,>=2.0.0 in /usr/local/lib/python3.10/dist-packages (from google-auth<3,>=1.6.3->tensorboard<2.13,>=2.12->tensorflow) (5.3.0)\n",
            "Requirement already satisfied: pyasn1-modules>=0.2.1 in /usr/local/lib/python3.10/dist-packages (from google-auth<3,>=1.6.3->tensorboard<2.13,>=2.12->tensorflow) (0.3.0)\n",
            "Requirement already satisfied: rsa<5,>=3.1.4 in /usr/local/lib/python3.10/dist-packages (from google-auth<3,>=1.6.3->tensorboard<2.13,>=2.12->tensorflow) (4.9)\n",
            "Requirement already satisfied: requests-oauthlib>=0.7.0 in /usr/local/lib/python3.10/dist-packages (from google-auth-oauthlib<1.1,>=0.5->tensorboard<2.13,>=2.12->tensorflow) (1.3.1)\n",
            "Requirement already satisfied: urllib3<1.27,>=1.21.1 in /usr/local/lib/python3.10/dist-packages (from requests<3,>=2.21.0->tensorboard<2.13,>=2.12->tensorflow) (1.26.15)\n",
            "Requirement already satisfied: certifi>=2017.4.17 in /usr/local/lib/python3.10/dist-packages (from requests<3,>=2.21.0->tensorboard<2.13,>=2.12->tensorflow) (2022.12.7)\n",
            "Requirement already satisfied: charset-normalizer~=2.0.0 in /usr/local/lib/python3.10/dist-packages (from requests<3,>=2.21.0->tensorboard<2.13,>=2.12->tensorflow) (2.0.12)\n",
            "Requirement already satisfied: idna<4,>=2.5 in /usr/local/lib/python3.10/dist-packages (from requests<3,>=2.21.0->tensorboard<2.13,>=2.12->tensorflow) (3.4)\n",
            "Requirement already satisfied: MarkupSafe>=2.1.1 in /usr/local/lib/python3.10/dist-packages (from werkzeug>=1.0.1->tensorboard<2.13,>=2.12->tensorflow) (2.1.2)\n",
            "Requirement already satisfied: pyasn1<0.6.0,>=0.4.6 in /usr/local/lib/python3.10/dist-packages (from pyasn1-modules>=0.2.1->google-auth<3,>=1.6.3->tensorboard<2.13,>=2.12->tensorflow) (0.5.0)\n",
            "Requirement already satisfied: oauthlib>=3.0.0 in /usr/local/lib/python3.10/dist-packages (from requests-oauthlib>=0.7.0->google-auth-oauthlib<1.1,>=0.5->tensorboard<2.13,>=2.12->tensorflow) (3.2.2)\n",
            "Looking in indexes: https://pypi.org/simple, https://us-python.pkg.dev/colab-wheels/public/simple/\n",
            "Requirement already satisfied: tensorflow-hub in /usr/local/lib/python3.10/dist-packages (0.13.0)\n",
            "Requirement already satisfied: numpy>=1.12.0 in /usr/local/lib/python3.10/dist-packages (from tensorflow-hub) (1.22.4)\n",
            "Requirement already satisfied: protobuf>=3.19.6 in /usr/local/lib/python3.10/dist-packages (from tensorflow-hub) (3.20.3)\n",
            "Looking in indexes: https://pypi.org/simple, https://us-python.pkg.dev/colab-wheels/public/simple/\n",
            "Requirement already satisfied: transformers in /usr/local/lib/python3.10/dist-packages (4.29.2)\n",
            "Requirement already satisfied: filelock in /usr/local/lib/python3.10/dist-packages (from transformers) (3.12.0)\n",
            "Requirement already satisfied: huggingface-hub<1.0,>=0.14.1 in /usr/local/lib/python3.10/dist-packages (from transformers) (0.15.1)\n",
            "Requirement already satisfied: numpy>=1.17 in /usr/local/lib/python3.10/dist-packages (from transformers) (1.22.4)\n",
            "Requirement already satisfied: packaging>=20.0 in /usr/local/lib/python3.10/dist-packages (from transformers) (23.1)\n",
            "Requirement already satisfied: pyyaml>=5.1 in /usr/local/lib/python3.10/dist-packages (from transformers) (6.0)\n",
            "Requirement already satisfied: regex!=2019.12.17 in /usr/local/lib/python3.10/dist-packages (from transformers) (2022.10.31)\n",
            "Requirement already satisfied: requests in /usr/local/lib/python3.10/dist-packages (from transformers) (2.27.1)\n",
            "Requirement already satisfied: tokenizers!=0.11.3,<0.14,>=0.11.1 in /usr/local/lib/python3.10/dist-packages (from transformers) (0.13.3)\n",
            "Requirement already satisfied: tqdm>=4.27 in /usr/local/lib/python3.10/dist-packages (from transformers) (4.65.0)\n",
            "Requirement already satisfied: fsspec in /usr/local/lib/python3.10/dist-packages (from huggingface-hub<1.0,>=0.14.1->transformers) (2023.4.0)\n",
            "Requirement already satisfied: typing-extensions>=3.7.4.3 in /usr/local/lib/python3.10/dist-packages (from huggingface-hub<1.0,>=0.14.1->transformers) (4.5.0)\n",
            "Requirement already satisfied: urllib3<1.27,>=1.21.1 in /usr/local/lib/python3.10/dist-packages (from requests->transformers) (1.26.15)\n",
            "Requirement already satisfied: certifi>=2017.4.17 in /usr/local/lib/python3.10/dist-packages (from requests->transformers) (2022.12.7)\n",
            "Requirement already satisfied: charset-normalizer~=2.0.0 in /usr/local/lib/python3.10/dist-packages (from requests->transformers) (2.0.12)\n",
            "Requirement already satisfied: idna<4,>=2.5 in /usr/local/lib/python3.10/dist-packages (from requests->transformers) (3.4)\n",
            "Looking in indexes: https://pypi.org/simple, https://us-python.pkg.dev/colab-wheels/public/simple/\n",
            "Requirement already satisfied: bert-tensorflow in /usr/local/lib/python3.10/dist-packages (1.0.4)\n",
            "Requirement already satisfied: six in /usr/local/lib/python3.10/dist-packages (from bert-tensorflow) (1.16.0)\n"
          ]
        }
      ]
    },
    {
      "cell_type": "markdown",
      "source": [
        "# **Importing the Needed Libraries**"
      ],
      "metadata": {
        "id": "BlIfwgUn43Ar"
      }
    },
    {
      "cell_type": "code",
      "execution_count": 2,
      "metadata": {
        "id": "n4492Jvdax8i"
      },
      "outputs": [],
      "source": [
        "import re\n",
        "import nltk\n",
        "import random\n",
        "import pandas as pd\n",
        "import numpy as np \n",
        "import matplotlib.pyplot as plt\n",
        "import seaborn as sns\n",
        "from urllib import request\n",
        "from nltk.stem import WordNetLemmatizer\n",
        "from nltk.corpus import gutenberg, stopwords, wordnet\n",
        "from nltk.tokenize import regexp_tokenize\n",
        "from sklearn.preprocessing import LabelEncoder\n",
        "from sklearn.model_selection import cross_validate\n",
        "from sklearn.model_selection import train_test_split\n",
        "from sklearn.metrics import confusion_matrix\n",
        "import tensorflow as tf\n",
        "import tensorflow_hub as hub\n",
        "from bert import tokenization\n",
        "from tensorflow.keras.callbacks import EarlyStopping\n",
        "from tensorflow.keras.models import Model\n",
        "from tensorflow.keras.layers import Input, Dense , Dropout\n",
        "from transformers import BertTokenizer\n",
        "tokenizer = BertTokenizer.from_pretrained('bert-base-uncased')\n",
        "# Enable mixed precision training\n",
        "tf.keras.mixed_precision.set_global_policy('mixed_float16')\n",
        "import warnings\n",
        "warnings.filterwarnings(\"ignore\")\n"
      ]
    },
    {
      "cell_type": "markdown",
      "source": [
        "# **Downloading Some Needed Packages**"
      ],
      "metadata": {
        "id": "GyfVwNTf49Gj"
      }
    },
    {
      "cell_type": "code",
      "source": [
        "nltk.download('stopwords')\n",
        "nltk.download('gutenberg')\n",
        "nltk.download('punkt')\n",
        "nltk.download('omw-1.4') \n",
        "nltk.download('wordnet')\n",
        "nltk.download('averaged_perceptron_tagger')\n",
        "stop_words = set(stopwords.words('english'))"
      ],
      "metadata": {
        "colab": {
          "base_uri": "https://localhost:8080/"
        },
        "id": "bDP2RuPma3-J",
        "outputId": "2970b6b1-df2b-4e7d-d5dc-fff376a8b7f3"
      },
      "execution_count": 3,
      "outputs": [
        {
          "output_type": "stream",
          "name": "stderr",
          "text": [
            "[nltk_data] Downloading package stopwords to /root/nltk_data...\n",
            "[nltk_data]   Package stopwords is already up-to-date!\n",
            "[nltk_data] Downloading package gutenberg to /root/nltk_data...\n",
            "[nltk_data]   Package gutenberg is already up-to-date!\n",
            "[nltk_data] Downloading package punkt to /root/nltk_data...\n",
            "[nltk_data]   Package punkt is already up-to-date!\n",
            "[nltk_data] Downloading package omw-1.4 to /root/nltk_data...\n",
            "[nltk_data]   Package omw-1.4 is already up-to-date!\n",
            "[nltk_data] Downloading package wordnet to /root/nltk_data...\n",
            "[nltk_data]   Package wordnet is already up-to-date!\n",
            "[nltk_data] Downloading package averaged_perceptron_tagger to\n",
            "[nltk_data]     /root/nltk_data...\n",
            "[nltk_data]   Package averaged_perceptron_tagger is already up-to-\n",
            "[nltk_data]       date!\n"
          ]
        }
      ]
    },
    {
      "cell_type": "markdown",
      "source": [
        "# **Get 5 Books from Gutenberg Library **\n",
        "\n",
        "\n",
        "*   The Project Gutenberg EBook of The Adventures of Pinocchio, by\n",
        "C. Collodi--Pseudonym of Carlo Lorenzini\n",
        "\n",
        "*   The Project Gutenberg eBook of Peter Pan, by James M. Barrie\n",
        "\n",
        "*   The Project Gutenberg eBook of The Wonderful Wizard of Oz, by L. Frank Baum\n",
        "\n",
        "*   The Project Gutenberg eBook of Alice’s Adventures in Wonderland, by Lewis Carroll\n",
        "\n",
        "*   The Project Gutenberg eBook of Gulliver’s Travels, by Jonathan Swift\n",
        "\n",
        "\n",
        "\n",
        "\n",
        "\n",
        "\n"
      ],
      "metadata": {
        "id": "N63hwGOb5Pjt"
      }
    },
    {
      "cell_type": "code",
      "source": [
        "pinocchio = \"https://www.gutenberg.org/files/500/500-0.txt\"\n",
        "pan = \"https://www.gutenberg.org/files/16/16-0.txt\"\n",
        "oz = \"https://www.gutenberg.org/files/55/55-0.txt\"\n",
        "alice = \"https://www.gutenberg.org/files/11/11-0.txt\"\n",
        "gulliver = \"https://www.gutenberg.org/files/829/829-0.txt\"\n",
        "books_list = [pinocchio , pan , oz , alice , gulliver]\n",
        "author_list = [\"Carlo Collodi\", \"James M. Barrie\", \"L. Frank Baum\", \"Lewis Carroll\", \"Jonathan Swift\"]"
      ],
      "metadata": {
        "id": "wFNeUHjpa4CA"
      },
      "execution_count": 4,
      "outputs": []
    },
    {
      "cell_type": "markdown",
      "source": [
        "**TO TEST THE CODE AND GET THE DESIRED OUTPUT**\n",
        "*   Read the Pinocchio Book\n",
        "*   Decode the Book and Lower the Words\n",
        "\n",
        "*   Tokenize the Lines to Remove the Unnecessary characters like \"/r\"\n",
        "*   Remove the Stopwords from the Lines and Tokenize them\n",
        "\n",
        "\n",
        "\n",
        "\n",
        "\n",
        "\n"
      ],
      "metadata": {
        "id": "KIXdsdoK6o2L"
      }
    },
    {
      "cell_type": "code",
      "source": [
        "response = request.urlopen(pinocchio)\n",
        "lines = (response.read().decode('utf8')).lower()\n",
        "book = regexp_tokenize(lines,r'([a-zA-Z]{3,})[\\,|\\s|\\.]')\n",
        "tokens = [token for token in book if token.lower() not in stop_words]"
      ],
      "metadata": {
        "id": "tOllateQa4EY"
      },
      "execution_count": 5,
      "outputs": []
    },
    {
      "cell_type": "markdown",
      "source": [
        "**Function to get the Wordnet's Part of Speach for future use to lemmatize the words**"
      ],
      "metadata": {
        "id": "2IPKGcVp8aNb"
      }
    },
    {
      "cell_type": "code",
      "source": [
        "def get_word_net_pos(tag):\n",
        "    if tag.startswith(\"J\"):\n",
        "        return wordnet.ADJ\n",
        "    elif tag.startswith(\"V\"):\n",
        "        return wordnet.VERB\n",
        "    elif tag.startswith(\"N\"):\n",
        "        return wordnet.NOUN\n",
        "    elif tag.startswith(\"R\"):\n",
        "        return wordnet.ADV\n",
        "    else :\n",
        "        return wordnet.NOUN"
      ],
      "metadata": {
        "id": "qT1PTgW206ul"
      },
      "execution_count": 6,
      "outputs": []
    },
    {
      "cell_type": "markdown",
      "source": [
        "**Function \"read_book\"**\n",
        "\n",
        "\n",
        "*   It Takes 2 parameters the URL of the Book and the Name of the book\n",
        "*   It Reads the Book, Decode, lower the Characters, Remove the Unnecessary characters, Remove the Stopwords, and Tokenize them\n",
        "\n",
        "\n",
        "*   It Gets 200 Random Samples each Consists of 100 Word \n",
        "*   Then, Using the Previous \"get_word_net_pos\" Function we lemmatize the Tokens and Label the Book with its Author name \n",
        "\n",
        "\n",
        "*   Finally, We Return the Dataframe\n",
        "\n",
        "\n",
        "\n",
        "\n",
        "\n",
        "\n"
      ],
      "metadata": {
        "id": "CtU97__C9BPs"
      }
    },
    {
      "cell_type": "code",
      "source": [
        "def read_book(url,name) :\n",
        "    lemmatizer = WordNetLemmatizer()\n",
        "    response = request.urlopen(url)\n",
        "    lines = (response.read().decode('utf8')).lower()\n",
        "    book = regexp_tokenize(lines,r'([a-zA-Z]{3,})[\\,|\\s|\\.]')\n",
        "    tokens = [token for token in book if token.lower() not in stop_words]\n",
        "    books =[]\n",
        "    for i in range(200) :\n",
        "        start = random.randint(0 , len(tokens) - 100)\n",
        "        books.append([' '.join(tokens[start: start + 100])])    \n",
        "    df = pd.DataFrame(books, columns=[\"partitions\"])\n",
        "    for i in range(200):\n",
        "        sent=\"\"\n",
        "        x = nltk.pos_tag((df.partitions[i]).split())\n",
        "        for word,tag in x:\n",
        "            lemma = lemmatizer.lemmatize(word,pos=get_word_net_pos(tag))\n",
        "            sent += lemma+\" \"\n",
        "            df.partitions[i] = sent\n",
        "    df[\"author\"] = name\n",
        "    return df"
      ],
      "metadata": {
        "id": "He_BiTp8a4Gw"
      },
      "execution_count": 7,
      "outputs": []
    },
    {
      "cell_type": "markdown",
      "source": [
        "**Function \"five_books\"**\n",
        "\n",
        "\n",
        "*   It Takes the List of URLs of the Books and the Authors Lisr as parameters\n",
        "*   And for each URL it Reads the Book and Preprocess it as Above then Append all of the Dataframes into a Full Dataframe Contains all the Books Samples \n",
        "\n"
      ],
      "metadata": {
        "id": "7R7yxtse_HRb"
      }
    },
    {
      "cell_type": "code",
      "source": [
        "def five_books(list_of_urls,author_list) :\n",
        "    df_full = pd.DataFrame()\n",
        "    for i,j in enumerate(list_of_urls) :\n",
        "        df = read_book(j,author_list[i])\n",
        "        df_full = df_full.append(df , ignore_index= True)\n",
        "    return df_full    "
      ],
      "metadata": {
        "id": "Bu-hb2P2a4JA"
      },
      "execution_count": 8,
      "outputs": []
    },
    {
      "cell_type": "code",
      "source": [
        "df = five_books(books_list,author_list)"
      ],
      "metadata": {
        "id": "_5mffP_Ba4Lj"
      },
      "execution_count": 9,
      "outputs": []
    },
    {
      "cell_type": "code",
      "source": [
        "df"
      ],
      "metadata": {
        "colab": {
          "base_uri": "https://localhost:8080/",
          "height": 423
        },
        "id": "ccv0Dq5qbU7y",
        "outputId": "da3feb0b-9a22-45db-e1a7-358624efde3b"
      },
      "execution_count": 10,
      "outputs": [
        {
          "output_type": "execute_result",
          "data": {
            "text/plain": [
              "                                            partitions          author\n",
              "0    marionette bid good fairy sing dance leave hou...   Carlo Collodi\n",
              "1    nose hand look think great surprise saw donkey...   Carlo Collodi\n",
              "2    open mouth still shut legs kick hard ever tire...   Carlo Collodi\n",
              "3    donation location receive write confirmation c...   Carlo Collodi\n",
              "4    child never lose sight even though deserve tod...   Carlo Collodi\n",
              "..                                                 ...             ...\n",
              "995  eight horse take nine stick fix firmly ground ...  Jonathan Swift\n",
              "996  end come back house occasion fresh air emperor...  Jonathan Swift\n",
              "997  tribnia langden mention close signification oc...  Jonathan Swift\n",
              "998  four stick tie parallel corner two foot fasten...  Jonathan Swift\n",
              "999  provision great river run middle town king hov...  Jonathan Swift\n",
              "\n",
              "[1000 rows x 2 columns]"
            ],
            "text/html": [
              "\n",
              "  <div id=\"df-92f6dee8-c619-4407-b066-b2e8f4595639\">\n",
              "    <div class=\"colab-df-container\">\n",
              "      <div>\n",
              "<style scoped>\n",
              "    .dataframe tbody tr th:only-of-type {\n",
              "        vertical-align: middle;\n",
              "    }\n",
              "\n",
              "    .dataframe tbody tr th {\n",
              "        vertical-align: top;\n",
              "    }\n",
              "\n",
              "    .dataframe thead th {\n",
              "        text-align: right;\n",
              "    }\n",
              "</style>\n",
              "<table border=\"1\" class=\"dataframe\">\n",
              "  <thead>\n",
              "    <tr style=\"text-align: right;\">\n",
              "      <th></th>\n",
              "      <th>partitions</th>\n",
              "      <th>author</th>\n",
              "    </tr>\n",
              "  </thead>\n",
              "  <tbody>\n",
              "    <tr>\n",
              "      <th>0</th>\n",
              "      <td>marionette bid good fairy sing dance leave hou...</td>\n",
              "      <td>Carlo Collodi</td>\n",
              "    </tr>\n",
              "    <tr>\n",
              "      <th>1</th>\n",
              "      <td>nose hand look think great surprise saw donkey...</td>\n",
              "      <td>Carlo Collodi</td>\n",
              "    </tr>\n",
              "    <tr>\n",
              "      <th>2</th>\n",
              "      <td>open mouth still shut legs kick hard ever tire...</td>\n",
              "      <td>Carlo Collodi</td>\n",
              "    </tr>\n",
              "    <tr>\n",
              "      <th>3</th>\n",
              "      <td>donation location receive write confirmation c...</td>\n",
              "      <td>Carlo Collodi</td>\n",
              "    </tr>\n",
              "    <tr>\n",
              "      <th>4</th>\n",
              "      <td>child never lose sight even though deserve tod...</td>\n",
              "      <td>Carlo Collodi</td>\n",
              "    </tr>\n",
              "    <tr>\n",
              "      <th>...</th>\n",
              "      <td>...</td>\n",
              "      <td>...</td>\n",
              "    </tr>\n",
              "    <tr>\n",
              "      <th>995</th>\n",
              "      <td>eight horse take nine stick fix firmly ground ...</td>\n",
              "      <td>Jonathan Swift</td>\n",
              "    </tr>\n",
              "    <tr>\n",
              "      <th>996</th>\n",
              "      <td>end come back house occasion fresh air emperor...</td>\n",
              "      <td>Jonathan Swift</td>\n",
              "    </tr>\n",
              "    <tr>\n",
              "      <th>997</th>\n",
              "      <td>tribnia langden mention close signification oc...</td>\n",
              "      <td>Jonathan Swift</td>\n",
              "    </tr>\n",
              "    <tr>\n",
              "      <th>998</th>\n",
              "      <td>four stick tie parallel corner two foot fasten...</td>\n",
              "      <td>Jonathan Swift</td>\n",
              "    </tr>\n",
              "    <tr>\n",
              "      <th>999</th>\n",
              "      <td>provision great river run middle town king hov...</td>\n",
              "      <td>Jonathan Swift</td>\n",
              "    </tr>\n",
              "  </tbody>\n",
              "</table>\n",
              "<p>1000 rows × 2 columns</p>\n",
              "</div>\n",
              "      <button class=\"colab-df-convert\" onclick=\"convertToInteractive('df-92f6dee8-c619-4407-b066-b2e8f4595639')\"\n",
              "              title=\"Convert this dataframe to an interactive table.\"\n",
              "              style=\"display:none;\">\n",
              "        \n",
              "  <svg xmlns=\"http://www.w3.org/2000/svg\" height=\"24px\"viewBox=\"0 0 24 24\"\n",
              "       width=\"24px\">\n",
              "    <path d=\"M0 0h24v24H0V0z\" fill=\"none\"/>\n",
              "    <path d=\"M18.56 5.44l.94 2.06.94-2.06 2.06-.94-2.06-.94-.94-2.06-.94 2.06-2.06.94zm-11 1L8.5 8.5l.94-2.06 2.06-.94-2.06-.94L8.5 2.5l-.94 2.06-2.06.94zm10 10l.94 2.06.94-2.06 2.06-.94-2.06-.94-.94-2.06-.94 2.06-2.06.94z\"/><path d=\"M17.41 7.96l-1.37-1.37c-.4-.4-.92-.59-1.43-.59-.52 0-1.04.2-1.43.59L10.3 9.45l-7.72 7.72c-.78.78-.78 2.05 0 2.83L4 21.41c.39.39.9.59 1.41.59.51 0 1.02-.2 1.41-.59l7.78-7.78 2.81-2.81c.8-.78.8-2.07 0-2.86zM5.41 20L4 18.59l7.72-7.72 1.47 1.35L5.41 20z\"/>\n",
              "  </svg>\n",
              "      </button>\n",
              "      \n",
              "  <style>\n",
              "    .colab-df-container {\n",
              "      display:flex;\n",
              "      flex-wrap:wrap;\n",
              "      gap: 12px;\n",
              "    }\n",
              "\n",
              "    .colab-df-convert {\n",
              "      background-color: #E8F0FE;\n",
              "      border: none;\n",
              "      border-radius: 50%;\n",
              "      cursor: pointer;\n",
              "      display: none;\n",
              "      fill: #1967D2;\n",
              "      height: 32px;\n",
              "      padding: 0 0 0 0;\n",
              "      width: 32px;\n",
              "    }\n",
              "\n",
              "    .colab-df-convert:hover {\n",
              "      background-color: #E2EBFA;\n",
              "      box-shadow: 0px 1px 2px rgba(60, 64, 67, 0.3), 0px 1px 3px 1px rgba(60, 64, 67, 0.15);\n",
              "      fill: #174EA6;\n",
              "    }\n",
              "\n",
              "    [theme=dark] .colab-df-convert {\n",
              "      background-color: #3B4455;\n",
              "      fill: #D2E3FC;\n",
              "    }\n",
              "\n",
              "    [theme=dark] .colab-df-convert:hover {\n",
              "      background-color: #434B5C;\n",
              "      box-shadow: 0px 1px 3px 1px rgba(0, 0, 0, 0.15);\n",
              "      filter: drop-shadow(0px 1px 2px rgba(0, 0, 0, 0.3));\n",
              "      fill: #FFFFFF;\n",
              "    }\n",
              "  </style>\n",
              "\n",
              "      <script>\n",
              "        const buttonEl =\n",
              "          document.querySelector('#df-92f6dee8-c619-4407-b066-b2e8f4595639 button.colab-df-convert');\n",
              "        buttonEl.style.display =\n",
              "          google.colab.kernel.accessAllowed ? 'block' : 'none';\n",
              "\n",
              "        async function convertToInteractive(key) {\n",
              "          const element = document.querySelector('#df-92f6dee8-c619-4407-b066-b2e8f4595639');\n",
              "          const dataTable =\n",
              "            await google.colab.kernel.invokeFunction('convertToInteractive',\n",
              "                                                     [key], {});\n",
              "          if (!dataTable) return;\n",
              "\n",
              "          const docLinkHtml = 'Like what you see? Visit the ' +\n",
              "            '<a target=\"_blank\" href=https://colab.research.google.com/notebooks/data_table.ipynb>data table notebook</a>'\n",
              "            + ' to learn more about interactive tables.';\n",
              "          element.innerHTML = '';\n",
              "          dataTable['output_type'] = 'display_data';\n",
              "          await google.colab.output.renderOutput(dataTable, element);\n",
              "          const docLink = document.createElement('div');\n",
              "          docLink.innerHTML = docLinkHtml;\n",
              "          element.appendChild(docLink);\n",
              "        }\n",
              "      </script>\n",
              "    </div>\n",
              "  </div>\n",
              "  "
            ]
          },
          "metadata": {},
          "execution_count": 10
        }
      ]
    },
    {
      "cell_type": "code",
      "source": [
        "df.author.value_counts()"
      ],
      "metadata": {
        "colab": {
          "base_uri": "https://localhost:8080/"
        },
        "id": "W5OLCSG0bU-S",
        "outputId": "f2f7a3cf-a201-42ec-ec32-13902f15fceb"
      },
      "execution_count": 11,
      "outputs": [
        {
          "output_type": "execute_result",
          "data": {
            "text/plain": [
              "Carlo Collodi      200\n",
              "James M. Barrie    200\n",
              "L. Frank Baum      200\n",
              "Lewis Carroll      200\n",
              "Jonathan Swift     200\n",
              "Name: author, dtype: int64"
            ]
          },
          "metadata": {},
          "execution_count": 11
        }
      ]
    },
    {
      "cell_type": "markdown",
      "source": [
        "**To Encode the Authors Names into Numerical Values**"
      ],
      "metadata": {
        "id": "3gOdz6IEAByU"
      }
    },
    {
      "cell_type": "code",
      "source": [
        "encoder = LabelEncoder()\n",
        "df.author = encoder.fit_transform(df.author)\n"
      ],
      "metadata": {
        "id": "g3z1zcSJbVDU"
      },
      "execution_count": 12,
      "outputs": []
    },
    {
      "cell_type": "code",
      "source": [
        "Y = df.author\n",
        "Y"
      ],
      "metadata": {
        "colab": {
          "base_uri": "https://localhost:8080/"
        },
        "id": "EW_5UdS_bVAx",
        "outputId": "4240b8ba-2e27-4cee-9b61-1df06312122f"
      },
      "execution_count": 13,
      "outputs": [
        {
          "output_type": "execute_result",
          "data": {
            "text/plain": [
              "0      0\n",
              "1      0\n",
              "2      0\n",
              "3      0\n",
              "4      0\n",
              "      ..\n",
              "995    2\n",
              "996    2\n",
              "997    2\n",
              "998    2\n",
              "999    2\n",
              "Name: author, Length: 1000, dtype: int64"
            ]
          },
          "metadata": {},
          "execution_count": 13
        }
      ]
    },
    {
      "cell_type": "code",
      "source": [
        "df"
      ],
      "metadata": {
        "colab": {
          "base_uri": "https://localhost:8080/",
          "height": 423
        },
        "id": "z7nMjloZbVF1",
        "outputId": "fdc5d94f-da6d-4361-d393-8eb005eaedcd"
      },
      "execution_count": 14,
      "outputs": [
        {
          "output_type": "execute_result",
          "data": {
            "text/plain": [
              "                                            partitions  author\n",
              "0    marionette bid good fairy sing dance leave hou...       0\n",
              "1    nose hand look think great surprise saw donkey...       0\n",
              "2    open mouth still shut legs kick hard ever tire...       0\n",
              "3    donation location receive write confirmation c...       0\n",
              "4    child never lose sight even though deserve tod...       0\n",
              "..                                                 ...     ...\n",
              "995  eight horse take nine stick fix firmly ground ...       2\n",
              "996  end come back house occasion fresh air emperor...       2\n",
              "997  tribnia langden mention close signification oc...       2\n",
              "998  four stick tie parallel corner two foot fasten...       2\n",
              "999  provision great river run middle town king hov...       2\n",
              "\n",
              "[1000 rows x 2 columns]"
            ],
            "text/html": [
              "\n",
              "  <div id=\"df-b1512211-f7d0-4fe1-9e13-dacc6938296a\">\n",
              "    <div class=\"colab-df-container\">\n",
              "      <div>\n",
              "<style scoped>\n",
              "    .dataframe tbody tr th:only-of-type {\n",
              "        vertical-align: middle;\n",
              "    }\n",
              "\n",
              "    .dataframe tbody tr th {\n",
              "        vertical-align: top;\n",
              "    }\n",
              "\n",
              "    .dataframe thead th {\n",
              "        text-align: right;\n",
              "    }\n",
              "</style>\n",
              "<table border=\"1\" class=\"dataframe\">\n",
              "  <thead>\n",
              "    <tr style=\"text-align: right;\">\n",
              "      <th></th>\n",
              "      <th>partitions</th>\n",
              "      <th>author</th>\n",
              "    </tr>\n",
              "  </thead>\n",
              "  <tbody>\n",
              "    <tr>\n",
              "      <th>0</th>\n",
              "      <td>marionette bid good fairy sing dance leave hou...</td>\n",
              "      <td>0</td>\n",
              "    </tr>\n",
              "    <tr>\n",
              "      <th>1</th>\n",
              "      <td>nose hand look think great surprise saw donkey...</td>\n",
              "      <td>0</td>\n",
              "    </tr>\n",
              "    <tr>\n",
              "      <th>2</th>\n",
              "      <td>open mouth still shut legs kick hard ever tire...</td>\n",
              "      <td>0</td>\n",
              "    </tr>\n",
              "    <tr>\n",
              "      <th>3</th>\n",
              "      <td>donation location receive write confirmation c...</td>\n",
              "      <td>0</td>\n",
              "    </tr>\n",
              "    <tr>\n",
              "      <th>4</th>\n",
              "      <td>child never lose sight even though deserve tod...</td>\n",
              "      <td>0</td>\n",
              "    </tr>\n",
              "    <tr>\n",
              "      <th>...</th>\n",
              "      <td>...</td>\n",
              "      <td>...</td>\n",
              "    </tr>\n",
              "    <tr>\n",
              "      <th>995</th>\n",
              "      <td>eight horse take nine stick fix firmly ground ...</td>\n",
              "      <td>2</td>\n",
              "    </tr>\n",
              "    <tr>\n",
              "      <th>996</th>\n",
              "      <td>end come back house occasion fresh air emperor...</td>\n",
              "      <td>2</td>\n",
              "    </tr>\n",
              "    <tr>\n",
              "      <th>997</th>\n",
              "      <td>tribnia langden mention close signification oc...</td>\n",
              "      <td>2</td>\n",
              "    </tr>\n",
              "    <tr>\n",
              "      <th>998</th>\n",
              "      <td>four stick tie parallel corner two foot fasten...</td>\n",
              "      <td>2</td>\n",
              "    </tr>\n",
              "    <tr>\n",
              "      <th>999</th>\n",
              "      <td>provision great river run middle town king hov...</td>\n",
              "      <td>2</td>\n",
              "    </tr>\n",
              "  </tbody>\n",
              "</table>\n",
              "<p>1000 rows × 2 columns</p>\n",
              "</div>\n",
              "      <button class=\"colab-df-convert\" onclick=\"convertToInteractive('df-b1512211-f7d0-4fe1-9e13-dacc6938296a')\"\n",
              "              title=\"Convert this dataframe to an interactive table.\"\n",
              "              style=\"display:none;\">\n",
              "        \n",
              "  <svg xmlns=\"http://www.w3.org/2000/svg\" height=\"24px\"viewBox=\"0 0 24 24\"\n",
              "       width=\"24px\">\n",
              "    <path d=\"M0 0h24v24H0V0z\" fill=\"none\"/>\n",
              "    <path d=\"M18.56 5.44l.94 2.06.94-2.06 2.06-.94-2.06-.94-.94-2.06-.94 2.06-2.06.94zm-11 1L8.5 8.5l.94-2.06 2.06-.94-2.06-.94L8.5 2.5l-.94 2.06-2.06.94zm10 10l.94 2.06.94-2.06 2.06-.94-2.06-.94-.94-2.06-.94 2.06-2.06.94z\"/><path d=\"M17.41 7.96l-1.37-1.37c-.4-.4-.92-.59-1.43-.59-.52 0-1.04.2-1.43.59L10.3 9.45l-7.72 7.72c-.78.78-.78 2.05 0 2.83L4 21.41c.39.39.9.59 1.41.59.51 0 1.02-.2 1.41-.59l7.78-7.78 2.81-2.81c.8-.78.8-2.07 0-2.86zM5.41 20L4 18.59l7.72-7.72 1.47 1.35L5.41 20z\"/>\n",
              "  </svg>\n",
              "      </button>\n",
              "      \n",
              "  <style>\n",
              "    .colab-df-container {\n",
              "      display:flex;\n",
              "      flex-wrap:wrap;\n",
              "      gap: 12px;\n",
              "    }\n",
              "\n",
              "    .colab-df-convert {\n",
              "      background-color: #E8F0FE;\n",
              "      border: none;\n",
              "      border-radius: 50%;\n",
              "      cursor: pointer;\n",
              "      display: none;\n",
              "      fill: #1967D2;\n",
              "      height: 32px;\n",
              "      padding: 0 0 0 0;\n",
              "      width: 32px;\n",
              "    }\n",
              "\n",
              "    .colab-df-convert:hover {\n",
              "      background-color: #E2EBFA;\n",
              "      box-shadow: 0px 1px 2px rgba(60, 64, 67, 0.3), 0px 1px 3px 1px rgba(60, 64, 67, 0.15);\n",
              "      fill: #174EA6;\n",
              "    }\n",
              "\n",
              "    [theme=dark] .colab-df-convert {\n",
              "      background-color: #3B4455;\n",
              "      fill: #D2E3FC;\n",
              "    }\n",
              "\n",
              "    [theme=dark] .colab-df-convert:hover {\n",
              "      background-color: #434B5C;\n",
              "      box-shadow: 0px 1px 3px 1px rgba(0, 0, 0, 0.15);\n",
              "      filter: drop-shadow(0px 1px 2px rgba(0, 0, 0, 0.3));\n",
              "      fill: #FFFFFF;\n",
              "    }\n",
              "  </style>\n",
              "\n",
              "      <script>\n",
              "        const buttonEl =\n",
              "          document.querySelector('#df-b1512211-f7d0-4fe1-9e13-dacc6938296a button.colab-df-convert');\n",
              "        buttonEl.style.display =\n",
              "          google.colab.kernel.accessAllowed ? 'block' : 'none';\n",
              "\n",
              "        async function convertToInteractive(key) {\n",
              "          const element = document.querySelector('#df-b1512211-f7d0-4fe1-9e13-dacc6938296a');\n",
              "          const dataTable =\n",
              "            await google.colab.kernel.invokeFunction('convertToInteractive',\n",
              "                                                     [key], {});\n",
              "          if (!dataTable) return;\n",
              "\n",
              "          const docLinkHtml = 'Like what you see? Visit the ' +\n",
              "            '<a target=\"_blank\" href=https://colab.research.google.com/notebooks/data_table.ipynb>data table notebook</a>'\n",
              "            + ' to learn more about interactive tables.';\n",
              "          element.innerHTML = '';\n",
              "          dataTable['output_type'] = 'display_data';\n",
              "          await google.colab.output.renderOutput(dataTable, element);\n",
              "          const docLink = document.createElement('div');\n",
              "          docLink.innerHTML = docLinkHtml;\n",
              "          element.appendChild(docLink);\n",
              "        }\n",
              "      </script>\n",
              "    </div>\n",
              "  </div>\n",
              "  "
            ]
          },
          "metadata": {},
          "execution_count": 14
        }
      ]
    },
    {
      "cell_type": "markdown",
      "source": [
        "**Function \"preprocess_text\"**\n",
        "\n",
        "\n",
        "*   Giving a Text and its Maximum Sequence Length, it Returns a 3 Lists Consists of :\n",
        "      *   The Input IDs for the Text\n",
        "      *   Its Attentiom Mask\n",
        "      *   The Text Token Type IDs\n",
        "\n",
        "\n",
        "\n"
      ],
      "metadata": {
        "id": "V_EXECukAVmz"
      }
    },
    {
      "cell_type": "code",
      "source": [
        "def preprocess_text(text, max_seq_length):\n",
        "    # Tokenize the text\n",
        "    tokens = tokenizer.tokenize(text)\n",
        "    # Add special tokens [CLS] and [SEP]\n",
        "    tokens = ['[CLS]'] + tokens + ['[SEP]']\n",
        "    \n",
        "    # Convert tokens to input IDs\n",
        "    input_ids = tokenizer.convert_tokens_to_ids(tokens)\n",
        "    \n",
        "    # Pad or truncate the input IDs to the desired sequence length\n",
        "    input_ids = input_ids[:max_seq_length]\n",
        "    padding_length = max_seq_length - len(input_ids)\n",
        " \n",
        "    input_ids = input_ids + [0] * padding_length\n",
        "   \n",
        "\n",
        "    # Create the attention mask\n",
        "    attention_mask = [1] * len(input_ids)\n",
        "    \n",
        "    # Create the token type IDs\n",
        "    token_type_ids = [0] * len(input_ids)\n",
        "    \n",
        "    return input_ids, attention_mask , token_type_ids\n"
      ],
      "metadata": {
        "id": "kANysU4llAMn"
      },
      "execution_count": 15,
      "outputs": []
    },
    {
      "cell_type": "markdown",
      "source": [
        "**Function \"preprocess_df\"**\n",
        "\n",
        "\n",
        "*   It Takes Train and Test Dataframes \n",
        "*   It Returns a Tensor Type for the Whole Train Dataframe Preprocessed with the above Function \n",
        "\n"
      ],
      "metadata": {
        "id": "KlFkljxeC5jp"
      }
    },
    {
      "cell_type": "code",
      "source": [
        "def preprocess_df(x_df , y_df):\n",
        "\n",
        "  max_seq_length = 100  # Set the desired maximum sequence length\n",
        "\n",
        "  X_df_word_ids = []  # List to store preprocessed input IDs\n",
        "  attention_masks = []  # List to store attention masks\n",
        "  token_type_ids = []  # List to store token type IDs\n",
        "\n",
        "  for text in x_df:\n",
        "    input_ids, attention_mask , token_type_id= preprocess_text(text, max_seq_length)\n",
        "    X_df_word_ids.append(input_ids)\n",
        "    attention_masks.append(attention_mask)\n",
        "    token_type_ids.append(token_type_id)\n",
        "\n",
        "  # Convert the lists to TensorFlow tensors\n",
        "  X_df_word_ids = tf.convert_to_tensor(X_df_word_ids)\n",
        "  attention_masks = tf.convert_to_tensor(attention_masks)\n",
        "  token_type_ids = tf.convert_to_tensor(token_type_ids)\n",
        "\n",
        "  y_train = y_df  # Your training labels\n",
        "  return X_df_word_ids , attention_masks , token_type_ids , y_train\n"
      ],
      "metadata": {
        "id": "OGEKXY00lAO5"
      },
      "execution_count": 16,
      "outputs": []
    },
    {
      "cell_type": "markdown",
      "source": [
        "**Split the Dataframes into Train and Test Splits**"
      ],
      "metadata": {
        "id": "UQRL21-RDrwJ"
      }
    },
    {
      "cell_type": "code",
      "source": [
        "X_train, X_test, y_train, y_test = train_test_split(\n",
        "        df['partitions'], df['author'], test_size=0.2, stratify=df['author'], random_state=42\n",
        "    )"
      ],
      "metadata": {
        "id": "I6n-eVQBn1D4"
      },
      "execution_count": 17,
      "outputs": []
    },
    {
      "cell_type": "markdown",
      "source": [
        "**Download the BERT-Base Model**"
      ],
      "metadata": {
        "id": "wAUAlIWoDyyJ"
      }
    },
    {
      "cell_type": "code",
      "source": [
        "bert_model = \"https://tfhub.dev/tensorflow/bert_en_uncased_L-12_H-768_A-12/3\"  # BERT base model\n",
        "bert_layer = hub.KerasLayer(bert_model, trainable=False)\n"
      ],
      "metadata": {
        "id": "EvQDAZdPk_2o"
      },
      "execution_count": 18,
      "outputs": []
    },
    {
      "cell_type": "markdown",
      "source": [
        "**Build the Model**\n",
        "\n",
        "\n",
        "*  The Input will be a List of 3 inputs (word_ids, attention_mask, type_ids)\n",
        "*   The Output will be 1 Value from the 5 Labels Classes \n",
        "\n"
      ],
      "metadata": {
        "id": "H47x3JEHD93B"
      }
    },
    {
      "cell_type": "code",
      "source": [
        "input_word_ids = Input(shape=(100,), dtype=tf.int32, name=\"input_word_ids\")\n",
        "input_mask = Input(shape=(100,), dtype=tf.int32, name=\"input_mask\")\n",
        "input_type_ids = Input(shape=(100,), dtype=tf.int32, name=\"input_type_ids\")\n",
        "\n",
        "bert_output = bert_layer({\"input_word_ids\": input_word_ids, \"input_mask\": input_mask, \"input_type_ids\": input_type_ids})\n",
        "dropout = Dropout(0.5)(bert_output[\"pooled_output\"])\n",
        "output = Dense(5, activation='softmax')(dropout)\n",
        "\n",
        "model = Model(inputs=[input_word_ids, input_mask, input_type_ids], outputs=output)\n"
      ],
      "metadata": {
        "id": "jrNE18opk_5H"
      },
      "execution_count": 19,
      "outputs": []
    },
    {
      "cell_type": "markdown",
      "source": [
        "**The Model Summary**\n",
        "\n",
        "\n",
        "*   The total Parameters are almost 110 millions parameters but i stopped the trainable parameters\n",
        "*   We got almost 4 thousand parameters to be trained \n",
        "\n"
      ],
      "metadata": {
        "id": "d8zUGDMQFD_z"
      }
    },
    {
      "cell_type": "code",
      "source": [
        "model.summary()"
      ],
      "metadata": {
        "colab": {
          "base_uri": "https://localhost:8080/"
        },
        "id": "gbD2nvKCk_7g",
        "outputId": "7fe03d9f-01ce-47ae-f76f-e4dac3fd2970"
      },
      "execution_count": 20,
      "outputs": [
        {
          "output_type": "stream",
          "name": "stdout",
          "text": [
            "Model: \"model\"\n",
            "__________________________________________________________________________________________________\n",
            " Layer (type)                   Output Shape         Param #     Connected to                     \n",
            "==================================================================================================\n",
            " input_mask (InputLayer)        [(None, 100)]        0           []                               \n",
            "                                                                                                  \n",
            " input_type_ids (InputLayer)    [(None, 100)]        0           []                               \n",
            "                                                                                                  \n",
            " input_word_ids (InputLayer)    [(None, 100)]        0           []                               \n",
            "                                                                                                  \n",
            " keras_layer (KerasLayer)       {'default': (None,   109482241   ['input_mask[0][0]',             \n",
            "                                768),                             'input_type_ids[0][0]',         \n",
            "                                 'encoder_outputs':               'input_word_ids[0][0]']         \n",
            "                                 [(None, 100, 768),                                               \n",
            "                                 (None, 100, 768),                                                \n",
            "                                 (None, 100, 768),                                                \n",
            "                                 (None, 100, 768),                                                \n",
            "                                 (None, 100, 768),                                                \n",
            "                                 (None, 100, 768),                                                \n",
            "                                 (None, 100, 768),                                                \n",
            "                                 (None, 100, 768),                                                \n",
            "                                 (None, 100, 768),                                                \n",
            "                                 (None, 100, 768),                                                \n",
            "                                 (None, 100, 768),                                                \n",
            "                                 (None, 100, 768)],                                               \n",
            "                                 'sequence_output':                                               \n",
            "                                 (None, 100, 768),                                                \n",
            "                                 'pooled_output': (                                               \n",
            "                                None, 768)}                                                       \n",
            "                                                                                                  \n",
            " dropout (Dropout)              (None, 768)          0           ['keras_layer[0][13]']           \n",
            "                                                                                                  \n",
            " dense (Dense)                  (None, 5)            3845        ['dropout[0][0]']                \n",
            "                                                                                                  \n",
            "==================================================================================================\n",
            "Total params: 109,486,086\n",
            "Trainable params: 3,845\n",
            "Non-trainable params: 109,482,241\n",
            "__________________________________________________________________________________________________\n"
          ]
        }
      ]
    },
    {
      "cell_type": "markdown",
      "source": [
        "**The Model Plot**\n",
        "\n",
        "\n",
        "*   The 3 Inputs go through the Keras Layer then the Dropout to get the Output\n",
        "\n"
      ],
      "metadata": {
        "id": "m-JiCKNkFarp"
      }
    },
    {
      "cell_type": "code",
      "source": [
        "tf.keras.utils.plot_model(model)"
      ],
      "metadata": {
        "colab": {
          "base_uri": "https://localhost:8080/",
          "height": 369
        },
        "id": "kbU17iF2kxW4",
        "outputId": "593deadf-23a0-47a2-ea95-b9fe7af848b1"
      },
      "execution_count": 21,
      "outputs": [
        {
          "output_type": "execute_result",
          "data": {
            "image/png": "[encoded data removed]",
            "text/plain": [
              "<IPython.core.display.Image object>"
            ]
          },
          "metadata": {},
          "execution_count": 21
        }
      ]
    },
    {
      "cell_type": "markdown",
      "source": [
        "**Compiling the Model with ADAM Optimizer and sparse_categorical_crossentropy Loss Function and Accuracy Metric**"
      ],
      "metadata": {
        "id": "ZlGPZ7KQFzr5"
      }
    },
    {
      "cell_type": "code",
      "source": [
        "model.compile(optimizer=tf.keras.optimizers.Adam(learning_rate=0.001),\n",
        "              loss='sparse_categorical_crossentropy',\n",
        "              metrics=['accuracy'])\n"
      ],
      "metadata": {
        "id": "uSKH2vm4k_-Q"
      },
      "execution_count": 22,
      "outputs": []
    },
    {
      "cell_type": "markdown",
      "source": [
        "**Preprocessing the Train Dataframe**"
      ],
      "metadata": {
        "id": "PP2AtMF1GD2x"
      }
    },
    {
      "cell_type": "code",
      "source": [
        "X_train_word_ids, attention_masks, token_type_ids , y_train = preprocess_df(X_train , y_train)"
      ],
      "metadata": {
        "id": "qOTgfZTZc3ec"
      },
      "execution_count": 23,
      "outputs": []
    },
    {
      "cell_type": "markdown",
      "source": [
        "**Fitting the Model with the 3 Train Inputs and Y Train for a 100 Epochs with Batch Size equal 16 and Validation Ratio 20%**"
      ],
      "metadata": {
        "id": "jaCMbknlGMYy"
      }
    },
    {
      "cell_type": "code",
      "source": [
        "history = model.fit([X_train_word_ids, attention_masks, token_type_ids], y_train, epochs = 200 , batch_size = 32 , validation_split = 0.2 )"
      ],
      "metadata": {
        "colab": {
          "base_uri": "https://localhost:8080/"
        },
        "id": "kVwuBdqtrQV3",
        "outputId": "6f73d10f-a523-4cf8-bf7f-da3fd0b6e7db"
      },
      "execution_count": 24,
      "outputs": [
        {
          "output_type": "stream",
          "name": "stdout",
          "text": [
            "Epoch 1/200\n",
            "20/20 [==============================] - 17s 315ms/step - loss: 1.9651 - accuracy: 0.2031 - val_loss: 1.6695 - val_accuracy: 0.1875\n",
            "Epoch 2/200\n",
            "20/20 [==============================] - 6s 282ms/step - loss: 1.8323 - accuracy: 0.2250 - val_loss: 1.5602 - val_accuracy: 0.2438\n",
            "Epoch 3/200\n",
            "20/20 [==============================] - 5s 271ms/step - loss: 1.7601 - accuracy: 0.2281 - val_loss: 1.5207 - val_accuracy: 0.3000\n",
            "Epoch 4/200\n",
            "20/20 [==============================] - 5s 273ms/step - loss: 1.6971 - accuracy: 0.2719 - val_loss: 1.4604 - val_accuracy: 0.3438\n",
            "Epoch 5/200\n",
            "20/20 [==============================] - 5s 274ms/step - loss: 1.6417 - accuracy: 0.2906 - val_loss: 1.4564 - val_accuracy: 0.2875\n",
            "Epoch 6/200\n",
            "20/20 [==============================] - 5s 276ms/step - loss: 1.5500 - accuracy: 0.2922 - val_loss: 1.4059 - val_accuracy: 0.4187\n",
            "Epoch 7/200\n",
            "20/20 [==============================] - 6s 279ms/step - loss: 1.5522 - accuracy: 0.3391 - val_loss: 1.3674 - val_accuracy: 0.5000\n",
            "Epoch 8/200\n",
            "20/20 [==============================] - 6s 280ms/step - loss: 1.5757 - accuracy: 0.3031 - val_loss: 1.3418 - val_accuracy: 0.5188\n",
            "Epoch 9/200\n",
            "20/20 [==============================] - 6s 283ms/step - loss: 1.5042 - accuracy: 0.3172 - val_loss: 1.3199 - val_accuracy: 0.5125\n",
            "Epoch 10/200\n",
            "20/20 [==============================] - 6s 281ms/step - loss: 1.5057 - accuracy: 0.3438 - val_loss: 1.3145 - val_accuracy: 0.4750\n",
            "Epoch 11/200\n",
            "20/20 [==============================] - 6s 290ms/step - loss: 1.4581 - accuracy: 0.3703 - val_loss: 1.2992 - val_accuracy: 0.4938\n",
            "Epoch 12/200\n",
            "20/20 [==============================] - 6s 280ms/step - loss: 1.4343 - accuracy: 0.3812 - val_loss: 1.2752 - val_accuracy: 0.4750\n",
            "Epoch 13/200\n",
            "20/20 [==============================] - 6s 279ms/step - loss: 1.4285 - accuracy: 0.3797 - val_loss: 1.2547 - val_accuracy: 0.5750\n",
            "Epoch 14/200\n",
            "20/20 [==============================] - 6s 279ms/step - loss: 1.3769 - accuracy: 0.4156 - val_loss: 1.2365 - val_accuracy: 0.5562\n",
            "Epoch 15/200\n",
            "20/20 [==============================] - 5s 277ms/step - loss: 1.3788 - accuracy: 0.3875 - val_loss: 1.2318 - val_accuracy: 0.5125\n",
            "Epoch 16/200\n",
            "20/20 [==============================] - 6s 287ms/step - loss: 1.3855 - accuracy: 0.4156 - val_loss: 1.2424 - val_accuracy: 0.4500\n",
            "Epoch 17/200\n",
            "20/20 [==============================] - 5s 275ms/step - loss: 1.3597 - accuracy: 0.4437 - val_loss: 1.2035 - val_accuracy: 0.5250\n",
            "Epoch 18/200\n",
            "20/20 [==============================] - 5s 276ms/step - loss: 1.3477 - accuracy: 0.4250 - val_loss: 1.1789 - val_accuracy: 0.6250\n",
            "Epoch 19/200\n",
            "20/20 [==============================] - 5s 276ms/step - loss: 1.3218 - accuracy: 0.4328 - val_loss: 1.1863 - val_accuracy: 0.5312\n",
            "Epoch 20/200\n",
            "20/20 [==============================] - 5s 275ms/step - loss: 1.3079 - accuracy: 0.4453 - val_loss: 1.1660 - val_accuracy: 0.5562\n",
            "Epoch 21/200\n",
            "20/20 [==============================] - 5s 278ms/step - loss: 1.3028 - accuracy: 0.4719 - val_loss: 1.1375 - val_accuracy: 0.6438\n",
            "Epoch 22/200\n",
            "20/20 [==============================] - 6s 286ms/step - loss: 1.2712 - accuracy: 0.4797 - val_loss: 1.1316 - val_accuracy: 0.6062\n",
            "Epoch 23/200\n",
            "20/20 [==============================] - 6s 287ms/step - loss: 1.2728 - accuracy: 0.4563 - val_loss: 1.1174 - val_accuracy: 0.6313\n",
            "Epoch 24/200\n",
            "20/20 [==============================] - 5s 278ms/step - loss: 1.2016 - accuracy: 0.5266 - val_loss: 1.1254 - val_accuracy: 0.5500\n",
            "Epoch 25/200\n",
            "20/20 [==============================] - 6s 287ms/step - loss: 1.2145 - accuracy: 0.5141 - val_loss: 1.0926 - val_accuracy: 0.7000\n",
            "Epoch 26/200\n",
            "20/20 [==============================] - 6s 280ms/step - loss: 1.2022 - accuracy: 0.5094 - val_loss: 1.1270 - val_accuracy: 0.5250\n",
            "Epoch 27/200\n",
            "20/20 [==============================] - 6s 288ms/step - loss: 1.2371 - accuracy: 0.4812 - val_loss: 1.0955 - val_accuracy: 0.6000\n",
            "Epoch 28/200\n",
            "20/20 [==============================] - 6s 279ms/step - loss: 1.1723 - accuracy: 0.5203 - val_loss: 1.0725 - val_accuracy: 0.7000\n",
            "Epoch 29/200\n",
            "20/20 [==============================] - 6s 288ms/step - loss: 1.2150 - accuracy: 0.5047 - val_loss: 1.1104 - val_accuracy: 0.5125\n",
            "Epoch 30/200\n",
            "20/20 [==============================] - 5s 278ms/step - loss: 1.2158 - accuracy: 0.5141 - val_loss: 1.1066 - val_accuracy: 0.5250\n",
            "Epoch 31/200\n",
            "20/20 [==============================] - 6s 288ms/step - loss: 1.1687 - accuracy: 0.5312 - val_loss: 1.0697 - val_accuracy: 0.5938\n",
            "Epoch 32/200\n",
            "20/20 [==============================] - 6s 287ms/step - loss: 1.1637 - accuracy: 0.5437 - val_loss: 1.0721 - val_accuracy: 0.5875\n",
            "Epoch 33/200\n",
            "20/20 [==============================] - 6s 295ms/step - loss: 1.1543 - accuracy: 0.5406 - val_loss: 1.0572 - val_accuracy: 0.6250\n",
            "Epoch 34/200\n",
            "20/20 [==============================] - 6s 281ms/step - loss: 1.1615 - accuracy: 0.5078 - val_loss: 1.0290 - val_accuracy: 0.6938\n",
            "Epoch 35/200\n",
            "20/20 [==============================] - 6s 286ms/step - loss: 1.1387 - accuracy: 0.5516 - val_loss: 1.0307 - val_accuracy: 0.6500\n",
            "Epoch 36/200\n",
            "20/20 [==============================] - 6s 288ms/step - loss: 1.1349 - accuracy: 0.5625 - val_loss: 1.0280 - val_accuracy: 0.6500\n",
            "Epoch 37/200\n",
            "20/20 [==============================] - 5s 276ms/step - loss: 1.1326 - accuracy: 0.5531 - val_loss: 1.0223 - val_accuracy: 0.6187\n",
            "Epoch 38/200\n",
            "20/20 [==============================] - 6s 279ms/step - loss: 1.0984 - accuracy: 0.5766 - val_loss: 1.0128 - val_accuracy: 0.6500\n",
            "Epoch 39/200\n",
            "20/20 [==============================] - 6s 286ms/step - loss: 1.0958 - accuracy: 0.5750 - val_loss: 1.0189 - val_accuracy: 0.6375\n",
            "Epoch 40/200\n",
            "20/20 [==============================] - 6s 288ms/step - loss: 1.1148 - accuracy: 0.5781 - val_loss: 1.0097 - val_accuracy: 0.6250\n",
            "Epoch 41/200\n",
            "20/20 [==============================] - 5s 277ms/step - loss: 1.0778 - accuracy: 0.5922 - val_loss: 1.0175 - val_accuracy: 0.6062\n",
            "Epoch 42/200\n",
            "20/20 [==============================] - 6s 287ms/step - loss: 1.0786 - accuracy: 0.5875 - val_loss: 1.0061 - val_accuracy: 0.6062\n",
            "Epoch 43/200\n",
            "20/20 [==============================] - 6s 288ms/step - loss: 1.1116 - accuracy: 0.5750 - val_loss: 0.9966 - val_accuracy: 0.6313\n",
            "Epoch 44/200\n",
            "20/20 [==============================] - 6s 287ms/step - loss: 1.1226 - accuracy: 0.5547 - val_loss: 1.0010 - val_accuracy: 0.6250\n",
            "Epoch 45/200\n",
            "20/20 [==============================] - 6s 279ms/step - loss: 1.1019 - accuracy: 0.5734 - val_loss: 0.9919 - val_accuracy: 0.6250\n",
            "Epoch 46/200\n",
            "20/20 [==============================] - 5s 277ms/step - loss: 1.0802 - accuracy: 0.5688 - val_loss: 0.9913 - val_accuracy: 0.6313\n",
            "Epoch 47/200\n",
            "20/20 [==============================] - 5s 277ms/step - loss: 1.0917 - accuracy: 0.5813 - val_loss: 0.9702 - val_accuracy: 0.6812\n",
            "Epoch 48/200\n",
            "20/20 [==============================] - 6s 278ms/step - loss: 1.0841 - accuracy: 0.5938 - val_loss: 0.9584 - val_accuracy: 0.7063\n",
            "Epoch 49/200\n",
            "20/20 [==============================] - 6s 279ms/step - loss: 1.0743 - accuracy: 0.5703 - val_loss: 0.9542 - val_accuracy: 0.6875\n",
            "Epoch 50/200\n",
            "20/20 [==============================] - 6s 279ms/step - loss: 1.0801 - accuracy: 0.5984 - val_loss: 0.9570 - val_accuracy: 0.6812\n",
            "Epoch 51/200\n",
            "20/20 [==============================] - 5s 278ms/step - loss: 1.0248 - accuracy: 0.6187 - val_loss: 0.9497 - val_accuracy: 0.6938\n",
            "Epoch 52/200\n",
            "20/20 [==============================] - 6s 278ms/step - loss: 1.0534 - accuracy: 0.6141 - val_loss: 0.9568 - val_accuracy: 0.6500\n",
            "Epoch 53/200\n",
            "20/20 [==============================] - 6s 287ms/step - loss: 1.0451 - accuracy: 0.6031 - val_loss: 0.9925 - val_accuracy: 0.6125\n",
            "Epoch 54/200\n",
            "20/20 [==============================] - 5s 278ms/step - loss: 1.0704 - accuracy: 0.5906 - val_loss: 0.9306 - val_accuracy: 0.7125\n",
            "Epoch 55/200\n",
            "20/20 [==============================] - 6s 288ms/step - loss: 1.0236 - accuracy: 0.6250 - val_loss: 0.9463 - val_accuracy: 0.6875\n",
            "Epoch 56/200\n",
            "20/20 [==============================] - 5s 277ms/step - loss: 1.0515 - accuracy: 0.6031 - val_loss: 0.9450 - val_accuracy: 0.6625\n",
            "Epoch 57/200\n",
            "20/20 [==============================] - 6s 279ms/step - loss: 1.0196 - accuracy: 0.6109 - val_loss: 0.9344 - val_accuracy: 0.6875\n",
            "Epoch 58/200\n",
            "20/20 [==============================] - 5s 277ms/step - loss: 1.0170 - accuracy: 0.6156 - val_loss: 0.9144 - val_accuracy: 0.7375\n",
            "Epoch 59/200\n",
            "20/20 [==============================] - 6s 287ms/step - loss: 1.0402 - accuracy: 0.5984 - val_loss: 0.9085 - val_accuracy: 0.7125\n",
            "Epoch 60/200\n",
            "20/20 [==============================] - 6s 278ms/step - loss: 1.0251 - accuracy: 0.6141 - val_loss: 0.9133 - val_accuracy: 0.7000\n",
            "Epoch 61/200\n",
            "20/20 [==============================] - 6s 287ms/step - loss: 1.0160 - accuracy: 0.6031 - val_loss: 0.9101 - val_accuracy: 0.7188\n",
            "Epoch 62/200\n",
            "20/20 [==============================] - 6s 280ms/step - loss: 0.9874 - accuracy: 0.6391 - val_loss: 0.9350 - val_accuracy: 0.6562\n",
            "Epoch 63/200\n",
            "20/20 [==============================] - 5s 277ms/step - loss: 1.0103 - accuracy: 0.6125 - val_loss: 0.9076 - val_accuracy: 0.7125\n",
            "Epoch 64/200\n",
            "20/20 [==============================] - 6s 278ms/step - loss: 0.9763 - accuracy: 0.6359 - val_loss: 0.9198 - val_accuracy: 0.6562\n",
            "Epoch 65/200\n",
            "20/20 [==============================] - 6s 287ms/step - loss: 0.9949 - accuracy: 0.6297 - val_loss: 0.8939 - val_accuracy: 0.7063\n",
            "Epoch 66/200\n",
            "20/20 [==============================] - 5s 278ms/step - loss: 0.9764 - accuracy: 0.6375 - val_loss: 0.9019 - val_accuracy: 0.7063\n",
            "Epoch 67/200\n",
            "20/20 [==============================] - 6s 279ms/step - loss: 0.9975 - accuracy: 0.6359 - val_loss: 0.8896 - val_accuracy: 0.7250\n",
            "Epoch 68/200\n",
            "20/20 [==============================] - 6s 287ms/step - loss: 0.9831 - accuracy: 0.6469 - val_loss: 0.9080 - val_accuracy: 0.6375\n",
            "Epoch 69/200\n",
            "20/20 [==============================] - 6s 279ms/step - loss: 0.9999 - accuracy: 0.6156 - val_loss: 0.8861 - val_accuracy: 0.7250\n",
            "Epoch 70/200\n",
            "20/20 [==============================] - 5s 277ms/step - loss: 0.9968 - accuracy: 0.6375 - val_loss: 0.8840 - val_accuracy: 0.6938\n",
            "Epoch 71/200\n",
            "20/20 [==============================] - 5s 278ms/step - loss: 0.9552 - accuracy: 0.6406 - val_loss: 0.8783 - val_accuracy: 0.7125\n",
            "Epoch 72/200\n",
            "20/20 [==============================] - 5s 278ms/step - loss: 0.9841 - accuracy: 0.6453 - val_loss: 0.8969 - val_accuracy: 0.6875\n",
            "Epoch 73/200\n",
            "20/20 [==============================] - 6s 288ms/step - loss: 0.9659 - accuracy: 0.6531 - val_loss: 0.8704 - val_accuracy: 0.7250\n",
            "Epoch 74/200\n",
            "20/20 [==============================] - 6s 280ms/step - loss: 0.9511 - accuracy: 0.6547 - val_loss: 0.8634 - val_accuracy: 0.7250\n",
            "Epoch 75/200\n",
            "20/20 [==============================] - 5s 277ms/step - loss: 0.9708 - accuracy: 0.6281 - val_loss: 0.8687 - val_accuracy: 0.7312\n",
            "Epoch 76/200\n",
            "20/20 [==============================] - 6s 288ms/step - loss: 0.9855 - accuracy: 0.6281 - val_loss: 0.8692 - val_accuracy: 0.7125\n",
            "Epoch 77/200\n",
            "20/20 [==============================] - 6s 278ms/step - loss: 0.9747 - accuracy: 0.6344 - val_loss: 0.8715 - val_accuracy: 0.6812\n",
            "Epoch 78/200\n",
            "20/20 [==============================] - 5s 277ms/step - loss: 0.9830 - accuracy: 0.6281 - val_loss: 0.8595 - val_accuracy: 0.7250\n",
            "Epoch 79/200\n",
            "20/20 [==============================] - 6s 279ms/step - loss: 0.9240 - accuracy: 0.6734 - val_loss: 0.8507 - val_accuracy: 0.7563\n",
            "Epoch 80/200\n",
            "20/20 [==============================] - 5s 278ms/step - loss: 0.9661 - accuracy: 0.6313 - val_loss: 0.8593 - val_accuracy: 0.7000\n",
            "Epoch 81/200\n",
            "20/20 [==============================] - 6s 288ms/step - loss: 0.9645 - accuracy: 0.6406 - val_loss: 0.8759 - val_accuracy: 0.6750\n",
            "Epoch 82/200\n",
            "20/20 [==============================] - 5s 278ms/step - loss: 0.9800 - accuracy: 0.6172 - val_loss: 0.8739 - val_accuracy: 0.6938\n",
            "Epoch 83/200\n",
            "20/20 [==============================] - 6s 288ms/step - loss: 0.9611 - accuracy: 0.6344 - val_loss: 0.8476 - val_accuracy: 0.7375\n",
            "Epoch 84/200\n",
            "20/20 [==============================] - 6s 289ms/step - loss: 0.9609 - accuracy: 0.6453 - val_loss: 0.8419 - val_accuracy: 0.7188\n",
            "Epoch 85/200\n",
            "20/20 [==============================] - 6s 288ms/step - loss: 0.9607 - accuracy: 0.6406 - val_loss: 0.8479 - val_accuracy: 0.7375\n",
            "Epoch 86/200\n",
            "20/20 [==============================] - 6s 280ms/step - loss: 0.9579 - accuracy: 0.6359 - val_loss: 0.8509 - val_accuracy: 0.7063\n",
            "Epoch 87/200\n",
            "20/20 [==============================] - 5s 278ms/step - loss: 0.9390 - accuracy: 0.6516 - val_loss: 0.8302 - val_accuracy: 0.7563\n",
            "Epoch 88/200\n",
            "20/20 [==============================] - 6s 288ms/step - loss: 0.9529 - accuracy: 0.6406 - val_loss: 0.8359 - val_accuracy: 0.7312\n",
            "Epoch 89/200\n",
            "20/20 [==============================] - 5s 278ms/step - loss: 0.9593 - accuracy: 0.6516 - val_loss: 0.8363 - val_accuracy: 0.7063\n",
            "Epoch 90/200\n",
            "20/20 [==============================] - 6s 278ms/step - loss: 0.9296 - accuracy: 0.6516 - val_loss: 0.8353 - val_accuracy: 0.7312\n",
            "Epoch 91/200\n",
            "20/20 [==============================] - 6s 290ms/step - loss: 0.9260 - accuracy: 0.6438 - val_loss: 0.8453 - val_accuracy: 0.7063\n",
            "Epoch 92/200\n",
            "20/20 [==============================] - 5s 278ms/step - loss: 0.9461 - accuracy: 0.6531 - val_loss: 0.8249 - val_accuracy: 0.7625\n",
            "Epoch 93/200\n",
            "20/20 [==============================] - 6s 279ms/step - loss: 0.9276 - accuracy: 0.6625 - val_loss: 0.8266 - val_accuracy: 0.7250\n",
            "Epoch 94/200\n",
            "20/20 [==============================] - 6s 278ms/step - loss: 0.9331 - accuracy: 0.6547 - val_loss: 0.8384 - val_accuracy: 0.7375\n",
            "Epoch 95/200\n",
            "20/20 [==============================] - 6s 288ms/step - loss: 0.9437 - accuracy: 0.6453 - val_loss: 0.8721 - val_accuracy: 0.7063\n",
            "Epoch 96/200\n",
            "20/20 [==============================] - 6s 288ms/step - loss: 0.9265 - accuracy: 0.6547 - val_loss: 0.8398 - val_accuracy: 0.7188\n",
            "Epoch 97/200\n",
            "20/20 [==============================] - 6s 288ms/step - loss: 0.9425 - accuracy: 0.6484 - val_loss: 0.8758 - val_accuracy: 0.6562\n",
            "Epoch 98/200\n",
            "20/20 [==============================] - 6s 290ms/step - loss: 0.9462 - accuracy: 0.6500 - val_loss: 0.8413 - val_accuracy: 0.7063\n",
            "Epoch 99/200\n",
            "20/20 [==============================] - 6s 288ms/step - loss: 0.9147 - accuracy: 0.6609 - val_loss: 0.8192 - val_accuracy: 0.7125\n",
            "Epoch 100/200\n",
            "20/20 [==============================] - 6s 289ms/step - loss: 0.9345 - accuracy: 0.6594 - val_loss: 0.8210 - val_accuracy: 0.7563\n",
            "Epoch 101/200\n",
            "20/20 [==============================] - 6s 278ms/step - loss: 0.9032 - accuracy: 0.6562 - val_loss: 0.8143 - val_accuracy: 0.7375\n",
            "Epoch 102/200\n",
            "20/20 [==============================] - 5s 278ms/step - loss: 0.9078 - accuracy: 0.6609 - val_loss: 0.8103 - val_accuracy: 0.7812\n",
            "Epoch 103/200\n",
            "20/20 [==============================] - 6s 279ms/step - loss: 0.9441 - accuracy: 0.6344 - val_loss: 0.8163 - val_accuracy: 0.7312\n",
            "Epoch 104/200\n",
            "20/20 [==============================] - 6s 279ms/step - loss: 0.9307 - accuracy: 0.6641 - val_loss: 0.7987 - val_accuracy: 0.7375\n",
            "Epoch 105/200\n",
            "20/20 [==============================] - 6s 279ms/step - loss: 0.9358 - accuracy: 0.6406 - val_loss: 0.8036 - val_accuracy: 0.7625\n",
            "Epoch 106/200\n",
            "20/20 [==============================] - 6s 278ms/step - loss: 0.9157 - accuracy: 0.6406 - val_loss: 0.8064 - val_accuracy: 0.7437\n",
            "Epoch 107/200\n",
            "20/20 [==============================] - 6s 279ms/step - loss: 0.9212 - accuracy: 0.6547 - val_loss: 0.8305 - val_accuracy: 0.7312\n",
            "Epoch 108/200\n",
            "20/20 [==============================] - 6s 289ms/step - loss: 0.9320 - accuracy: 0.6359 - val_loss: 0.7979 - val_accuracy: 0.7812\n",
            "Epoch 109/200\n",
            "20/20 [==============================] - 6s 288ms/step - loss: 0.9434 - accuracy: 0.6500 - val_loss: 0.7910 - val_accuracy: 0.7250\n",
            "Epoch 110/200\n",
            "20/20 [==============================] - 6s 290ms/step - loss: 0.9189 - accuracy: 0.6547 - val_loss: 0.7967 - val_accuracy: 0.7688\n",
            "Epoch 111/200\n",
            "20/20 [==============================] - 5s 278ms/step - loss: 0.9147 - accuracy: 0.6281 - val_loss: 0.8257 - val_accuracy: 0.7063\n",
            "Epoch 112/200\n",
            "20/20 [==============================] - 6s 288ms/step - loss: 0.9422 - accuracy: 0.6344 - val_loss: 0.8164 - val_accuracy: 0.7312\n",
            "Epoch 113/200\n",
            "20/20 [==============================] - 6s 288ms/step - loss: 0.9138 - accuracy: 0.6609 - val_loss: 0.7931 - val_accuracy: 0.7563\n",
            "Epoch 114/200\n",
            "20/20 [==============================] - 6s 279ms/step - loss: 0.9100 - accuracy: 0.6687 - val_loss: 0.7946 - val_accuracy: 0.7563\n",
            "Epoch 115/200\n",
            "20/20 [==============================] - 6s 289ms/step - loss: 0.9020 - accuracy: 0.6578 - val_loss: 0.8031 - val_accuracy: 0.7375\n",
            "Epoch 116/200\n",
            "20/20 [==============================] - 6s 287ms/step - loss: 0.9012 - accuracy: 0.6719 - val_loss: 0.8094 - val_accuracy: 0.6938\n",
            "Epoch 117/200\n",
            "20/20 [==============================] - 6s 288ms/step - loss: 0.9114 - accuracy: 0.6516 - val_loss: 0.7777 - val_accuracy: 0.7625\n",
            "Epoch 118/200\n",
            "20/20 [==============================] - 6s 288ms/step - loss: 0.8907 - accuracy: 0.6828 - val_loss: 0.8043 - val_accuracy: 0.7125\n",
            "Epoch 119/200\n",
            "20/20 [==============================] - 6s 288ms/step - loss: 0.8948 - accuracy: 0.6734 - val_loss: 0.8022 - val_accuracy: 0.7375\n",
            "Epoch 120/200\n",
            "20/20 [==============================] - 6s 288ms/step - loss: 0.9195 - accuracy: 0.6453 - val_loss: 0.8018 - val_accuracy: 0.7563\n",
            "Epoch 121/200\n",
            "20/20 [==============================] - 6s 279ms/step - loss: 0.9184 - accuracy: 0.6547 - val_loss: 0.7974 - val_accuracy: 0.7625\n",
            "Epoch 122/200\n",
            "20/20 [==============================] - 6s 279ms/step - loss: 0.9226 - accuracy: 0.6359 - val_loss: 0.7866 - val_accuracy: 0.7688\n",
            "Epoch 123/200\n",
            "20/20 [==============================] - 5s 278ms/step - loss: 0.8972 - accuracy: 0.6609 - val_loss: 0.8144 - val_accuracy: 0.7188\n",
            "Epoch 124/200\n",
            "20/20 [==============================] - 6s 287ms/step - loss: 0.8670 - accuracy: 0.6844 - val_loss: 0.7967 - val_accuracy: 0.7563\n",
            "Epoch 125/200\n",
            "20/20 [==============================] - 6s 288ms/step - loss: 0.9170 - accuracy: 0.6578 - val_loss: 0.7840 - val_accuracy: 0.7875\n",
            "Epoch 126/200\n",
            "20/20 [==============================] - 6s 288ms/step - loss: 0.8829 - accuracy: 0.6734 - val_loss: 0.7816 - val_accuracy: 0.7250\n",
            "Epoch 127/200\n",
            "20/20 [==============================] - 6s 289ms/step - loss: 0.8607 - accuracy: 0.6812 - val_loss: 0.7721 - val_accuracy: 0.7250\n",
            "Epoch 128/200\n",
            "20/20 [==============================] - 6s 287ms/step - loss: 0.8575 - accuracy: 0.6734 - val_loss: 0.7826 - val_accuracy: 0.7688\n",
            "Epoch 129/200\n",
            "20/20 [==============================] - 6s 289ms/step - loss: 0.8419 - accuracy: 0.7094 - val_loss: 0.7714 - val_accuracy: 0.7500\n",
            "Epoch 130/200\n",
            "20/20 [==============================] - 5s 278ms/step - loss: 0.9023 - accuracy: 0.6719 - val_loss: 0.7598 - val_accuracy: 0.7625\n",
            "Epoch 131/200\n",
            "20/20 [==============================] - 6s 288ms/step - loss: 0.8864 - accuracy: 0.6828 - val_loss: 0.7675 - val_accuracy: 0.7437\n",
            "Epoch 132/200\n",
            "20/20 [==============================] - 6s 289ms/step - loss: 0.8626 - accuracy: 0.6797 - val_loss: 0.7586 - val_accuracy: 0.7688\n",
            "Epoch 133/200\n",
            "20/20 [==============================] - 5s 278ms/step - loss: 0.9119 - accuracy: 0.6438 - val_loss: 0.7771 - val_accuracy: 0.7500\n",
            "Epoch 134/200\n",
            "20/20 [==============================] - 6s 289ms/step - loss: 0.8633 - accuracy: 0.6797 - val_loss: 0.7705 - val_accuracy: 0.7750\n",
            "Epoch 135/200\n",
            "20/20 [==============================] - 6s 279ms/step - loss: 0.8577 - accuracy: 0.6828 - val_loss: 0.7580 - val_accuracy: 0.7500\n",
            "Epoch 136/200\n",
            "20/20 [==============================] - 6s 280ms/step - loss: 0.8996 - accuracy: 0.6406 - val_loss: 0.7775 - val_accuracy: 0.7750\n",
            "Epoch 137/200\n",
            "20/20 [==============================] - 6s 279ms/step - loss: 0.9162 - accuracy: 0.6438 - val_loss: 0.7878 - val_accuracy: 0.7750\n",
            "Epoch 138/200\n",
            "20/20 [==============================] - 6s 288ms/step - loss: 0.9180 - accuracy: 0.6359 - val_loss: 0.7664 - val_accuracy: 0.7625\n",
            "Epoch 139/200\n",
            "20/20 [==============================] - 6s 280ms/step - loss: 0.8563 - accuracy: 0.6938 - val_loss: 0.7581 - val_accuracy: 0.7625\n",
            "Epoch 140/200\n",
            "20/20 [==============================] - 6s 279ms/step - loss: 0.8637 - accuracy: 0.6656 - val_loss: 0.7555 - val_accuracy: 0.7188\n",
            "Epoch 141/200\n",
            "20/20 [==============================] - 6s 290ms/step - loss: 0.8823 - accuracy: 0.6625 - val_loss: 0.7591 - val_accuracy: 0.7625\n",
            "Epoch 142/200\n",
            "20/20 [==============================] - 5s 278ms/step - loss: 0.8939 - accuracy: 0.6641 - val_loss: 0.7815 - val_accuracy: 0.7625\n",
            "Epoch 143/200\n",
            "20/20 [==============================] - 6s 288ms/step - loss: 0.8758 - accuracy: 0.6859 - val_loss: 0.7466 - val_accuracy: 0.7625\n",
            "Epoch 144/200\n",
            "20/20 [==============================] - 6s 278ms/step - loss: 0.8850 - accuracy: 0.6719 - val_loss: 0.7422 - val_accuracy: 0.7750\n",
            "Epoch 145/200\n",
            "20/20 [==============================] - 6s 278ms/step - loss: 0.8520 - accuracy: 0.6797 - val_loss: 0.7591 - val_accuracy: 0.7437\n",
            "Epoch 146/200\n",
            "20/20 [==============================] - 6s 280ms/step - loss: 0.8677 - accuracy: 0.6844 - val_loss: 0.7437 - val_accuracy: 0.7688\n",
            "Epoch 147/200\n",
            "20/20 [==============================] - 6s 278ms/step - loss: 0.8970 - accuracy: 0.6500 - val_loss: 0.7448 - val_accuracy: 0.7312\n",
            "Epoch 148/200\n",
            "20/20 [==============================] - 6s 280ms/step - loss: 0.8499 - accuracy: 0.6938 - val_loss: 0.7472 - val_accuracy: 0.7688\n",
            "Epoch 149/200\n",
            "20/20 [==============================] - 6s 288ms/step - loss: 0.8526 - accuracy: 0.6922 - val_loss: 0.7692 - val_accuracy: 0.7750\n",
            "Epoch 150/200\n",
            "20/20 [==============================] - 6s 288ms/step - loss: 0.8989 - accuracy: 0.6641 - val_loss: 0.7421 - val_accuracy: 0.7688\n",
            "Epoch 151/200\n",
            "20/20 [==============================] - 6s 289ms/step - loss: 0.8814 - accuracy: 0.6750 - val_loss: 0.7412 - val_accuracy: 0.7500\n",
            "Epoch 152/200\n",
            "20/20 [==============================] - 5s 278ms/step - loss: 0.8784 - accuracy: 0.6641 - val_loss: 0.7515 - val_accuracy: 0.7875\n",
            "Epoch 153/200\n",
            "20/20 [==============================] - 6s 280ms/step - loss: 0.8533 - accuracy: 0.6734 - val_loss: 0.7743 - val_accuracy: 0.7437\n",
            "Epoch 154/200\n",
            "20/20 [==============================] - 6s 287ms/step - loss: 0.9006 - accuracy: 0.6750 - val_loss: 0.7380 - val_accuracy: 0.7812\n",
            "Epoch 155/200\n",
            "20/20 [==============================] - 5s 278ms/step - loss: 0.8757 - accuracy: 0.6578 - val_loss: 0.7477 - val_accuracy: 0.7312\n",
            "Epoch 156/200\n",
            "20/20 [==============================] - 6s 288ms/step - loss: 0.8462 - accuracy: 0.6781 - val_loss: 0.7510 - val_accuracy: 0.7437\n",
            "Epoch 157/200\n",
            "20/20 [==============================] - 5s 277ms/step - loss: 0.8931 - accuracy: 0.6594 - val_loss: 0.7362 - val_accuracy: 0.7625\n",
            "Epoch 158/200\n",
            "20/20 [==============================] - 6s 290ms/step - loss: 0.8242 - accuracy: 0.6922 - val_loss: 0.7440 - val_accuracy: 0.7625\n",
            "Epoch 159/200\n",
            "20/20 [==============================] - 5s 278ms/step - loss: 0.8858 - accuracy: 0.6625 - val_loss: 0.7415 - val_accuracy: 0.7312\n",
            "Epoch 160/200\n",
            "20/20 [==============================] - 6s 288ms/step - loss: 0.8257 - accuracy: 0.7125 - val_loss: 0.7487 - val_accuracy: 0.7625\n",
            "Epoch 161/200\n",
            "20/20 [==============================] - 6s 288ms/step - loss: 0.8707 - accuracy: 0.6891 - val_loss: 0.7622 - val_accuracy: 0.7812\n",
            "Epoch 162/200\n",
            "20/20 [==============================] - 5s 278ms/step - loss: 0.8883 - accuracy: 0.6687 - val_loss: 0.7320 - val_accuracy: 0.7750\n",
            "Epoch 163/200\n",
            "20/20 [==============================] - 6s 278ms/step - loss: 0.8739 - accuracy: 0.6766 - val_loss: 0.7296 - val_accuracy: 0.7688\n",
            "Epoch 164/200\n",
            "20/20 [==============================] - 5s 278ms/step - loss: 0.8467 - accuracy: 0.6891 - val_loss: 0.7324 - val_accuracy: 0.7875\n",
            "Epoch 165/200\n",
            "20/20 [==============================] - 6s 279ms/step - loss: 0.8638 - accuracy: 0.6750 - val_loss: 0.7313 - val_accuracy: 0.7688\n",
            "Epoch 166/200\n",
            "20/20 [==============================] - 6s 288ms/step - loss: 0.8416 - accuracy: 0.6797 - val_loss: 0.7463 - val_accuracy: 0.7750\n",
            "Epoch 167/200\n",
            "20/20 [==============================] - 6s 288ms/step - loss: 0.8432 - accuracy: 0.6953 - val_loss: 0.7698 - val_accuracy: 0.7500\n",
            "Epoch 168/200\n",
            "20/20 [==============================] - 6s 288ms/step - loss: 0.8940 - accuracy: 0.6656 - val_loss: 0.7609 - val_accuracy: 0.7563\n",
            "Epoch 169/200\n",
            "20/20 [==============================] - 5s 278ms/step - loss: 0.8423 - accuracy: 0.6859 - val_loss: 0.7225 - val_accuracy: 0.7688\n",
            "Epoch 170/200\n",
            "20/20 [==============================] - 6s 289ms/step - loss: 0.9111 - accuracy: 0.6594 - val_loss: 0.7216 - val_accuracy: 0.7625\n",
            "Epoch 171/200\n",
            "20/20 [==============================] - 6s 288ms/step - loss: 0.8513 - accuracy: 0.6703 - val_loss: 0.7409 - val_accuracy: 0.7625\n",
            "Epoch 172/200\n",
            "20/20 [==============================] - 6s 279ms/step - loss: 0.8230 - accuracy: 0.7016 - val_loss: 0.7343 - val_accuracy: 0.7563\n",
            "Epoch 173/200\n",
            "20/20 [==============================] - 6s 279ms/step - loss: 0.8620 - accuracy: 0.6844 - val_loss: 0.7391 - val_accuracy: 0.7375\n",
            "Epoch 174/200\n",
            "20/20 [==============================] - 6s 278ms/step - loss: 0.8599 - accuracy: 0.6766 - val_loss: 0.7410 - val_accuracy: 0.7625\n",
            "Epoch 175/200\n",
            "20/20 [==============================] - 6s 289ms/step - loss: 0.8150 - accuracy: 0.6922 - val_loss: 0.7670 - val_accuracy: 0.7875\n",
            "Epoch 176/200\n",
            "20/20 [==============================] - 6s 288ms/step - loss: 0.8500 - accuracy: 0.6766 - val_loss: 0.7233 - val_accuracy: 0.7375\n",
            "Epoch 177/200\n",
            "20/20 [==============================] - 6s 289ms/step - loss: 0.8326 - accuracy: 0.6969 - val_loss: 0.7260 - val_accuracy: 0.8062\n",
            "Epoch 178/200\n",
            "20/20 [==============================] - 6s 278ms/step - loss: 0.8416 - accuracy: 0.6734 - val_loss: 0.7217 - val_accuracy: 0.7437\n",
            "Epoch 179/200\n",
            "20/20 [==============================] - 6s 288ms/step - loss: 0.8573 - accuracy: 0.6797 - val_loss: 0.7202 - val_accuracy: 0.7625\n",
            "Epoch 180/200\n",
            "20/20 [==============================] - 6s 288ms/step - loss: 0.8560 - accuracy: 0.6766 - val_loss: 0.7288 - val_accuracy: 0.7937\n",
            "Epoch 181/200\n",
            "20/20 [==============================] - 5s 278ms/step - loss: 0.8350 - accuracy: 0.6875 - val_loss: 0.7414 - val_accuracy: 0.7812\n",
            "Epoch 182/200\n",
            "20/20 [==============================] - 6s 280ms/step - loss: 0.8384 - accuracy: 0.6828 - val_loss: 0.7414 - val_accuracy: 0.7437\n",
            "Epoch 183/200\n",
            "20/20 [==============================] - 6s 279ms/step - loss: 0.8604 - accuracy: 0.6719 - val_loss: 0.7202 - val_accuracy: 0.7625\n",
            "Epoch 184/200\n",
            "20/20 [==============================] - 6s 279ms/step - loss: 0.8958 - accuracy: 0.6547 - val_loss: 0.7352 - val_accuracy: 0.8000\n",
            "Epoch 185/200\n",
            "20/20 [==============================] - 6s 288ms/step - loss: 0.8298 - accuracy: 0.6984 - val_loss: 0.7086 - val_accuracy: 0.7625\n",
            "Epoch 186/200\n",
            "20/20 [==============================] - 6s 288ms/step - loss: 0.8286 - accuracy: 0.7016 - val_loss: 0.7238 - val_accuracy: 0.7688\n",
            "Epoch 187/200\n",
            "20/20 [==============================] - 5s 278ms/step - loss: 0.8411 - accuracy: 0.6969 - val_loss: 0.7338 - val_accuracy: 0.7750\n",
            "Epoch 188/200\n",
            "20/20 [==============================] - 5s 278ms/step - loss: 0.8354 - accuracy: 0.7031 - val_loss: 0.7187 - val_accuracy: 0.7750\n",
            "Epoch 189/200\n",
            "20/20 [==============================] - 6s 290ms/step - loss: 0.8504 - accuracy: 0.6875 - val_loss: 0.7401 - val_accuracy: 0.7750\n",
            "Epoch 190/200\n",
            "20/20 [==============================] - 6s 289ms/step - loss: 0.8501 - accuracy: 0.6562 - val_loss: 0.7557 - val_accuracy: 0.8000\n",
            "Epoch 191/200\n",
            "20/20 [==============================] - 6s 288ms/step - loss: 0.8991 - accuracy: 0.6562 - val_loss: 0.7471 - val_accuracy: 0.7500\n",
            "Epoch 192/200\n",
            "20/20 [==============================] - 6s 279ms/step - loss: 0.8498 - accuracy: 0.6812 - val_loss: 0.7265 - val_accuracy: 0.8062\n",
            "Epoch 193/200\n",
            "20/20 [==============================] - 6s 279ms/step - loss: 0.8346 - accuracy: 0.6859 - val_loss: 0.7123 - val_accuracy: 0.7312\n",
            "Epoch 194/200\n",
            "20/20 [==============================] - 6s 280ms/step - loss: 0.8560 - accuracy: 0.6781 - val_loss: 0.7237 - val_accuracy: 0.7625\n",
            "Epoch 195/200\n",
            "20/20 [==============================] - 6s 289ms/step - loss: 0.8554 - accuracy: 0.6875 - val_loss: 0.7167 - val_accuracy: 0.7563\n",
            "Epoch 196/200\n",
            "20/20 [==============================] - 6s 280ms/step - loss: 0.8474 - accuracy: 0.6922 - val_loss: 0.7119 - val_accuracy: 0.7937\n",
            "Epoch 197/200\n",
            "20/20 [==============================] - 6s 279ms/step - loss: 0.8052 - accuracy: 0.6938 - val_loss: 0.7209 - val_accuracy: 0.7875\n",
            "Epoch 198/200\n",
            "20/20 [==============================] - 6s 289ms/step - loss: 0.8423 - accuracy: 0.6812 - val_loss: 0.7422 - val_accuracy: 0.7812\n",
            "Epoch 199/200\n",
            "20/20 [==============================] - 6s 289ms/step - loss: 0.8482 - accuracy: 0.6875 - val_loss: 0.7036 - val_accuracy: 0.7812\n",
            "Epoch 200/200\n",
            "20/20 [==============================] - 6s 288ms/step - loss: 0.8174 - accuracy: 0.7016 - val_loss: 0.7152 - val_accuracy: 0.7875\n"
          ]
        }
      ]
    },
    {
      "cell_type": "markdown",
      "source": [
        "**Preprocess the Test Dataframe**"
      ],
      "metadata": {
        "id": "F6N0ic6nGkcI"
      }
    },
    {
      "cell_type": "code",
      "source": [
        "X_test_word_ids, test_attention_masks, test_token_type_ids , y_test = preprocess_df(X_test , y_test)"
      ],
      "metadata": {
        "id": "vRtJsQfcbRFq"
      },
      "execution_count": 25,
      "outputs": []
    },
    {
      "cell_type": "markdown",
      "source": [
        "**Evaluate the Model with the Test Data**"
      ],
      "metadata": {
        "id": "u0friWpSGo5y"
      }
    },
    {
      "cell_type": "code",
      "source": [
        "loss, accuracy = model.evaluate([X_test_word_ids, test_attention_masks, test_token_type_ids], y_test)\n",
        "print(\"Test Loss:\", loss)\n",
        "print(\"Test Accuracy:\", accuracy)"
      ],
      "metadata": {
        "colab": {
          "base_uri": "https://localhost:8080/"
        },
        "id": "TOOK-gNBbRIJ",
        "outputId": "9bb7c4b2-b1ea-458c-cbc6-80bc2af8d97c"
      },
      "execution_count": 26,
      "outputs": [
        {
          "output_type": "stream",
          "name": "stdout",
          "text": [
            "7/7 [==============================] - 2s 195ms/step - loss: 0.8203 - accuracy: 0.7400\n",
            "Test Loss: 0.8202929496765137\n",
            "Test Accuracy: 0.7400000095367432\n"
          ]
        }
      ]
    },
    {
      "cell_type": "code",
      "source": [
        "# plot loss during training\n",
        "plt.subplot(211)\n",
        "plt.title('Loss')\n",
        "plt.plot(history.history['loss'], label='train')\n",
        "plt.plot(history.history['val_loss'], label='test')\n",
        "plt.legend()\n",
        "# plot accuracy during training\n",
        "plt.subplot(212)\n",
        "plt.title('Accuracy')\n",
        "plt.plot(history.history['accuracy'], label='train')\n",
        "plt.plot(history.history['val_accuracy'], label='test')\n",
        "plt.legend()\n",
        "plt.show()"
      ],
      "metadata": {
        "colab": {
          "base_uri": "https://localhost:8080/",
          "height": 452
        },
        "id": "vgrH6Vw4IPVy",
        "outputId": "f54e6545-584a-40c3-f56e-a70e3ad2aede"
      },
      "execution_count": 27,
      "outputs": [
        {
          "output_type": "display_data",
          "data": {
            "text/plain": [
              "<Figure size 640x480 with 2 Axes>"
            ],
            "image/png": "[encoded data removed]"
          },
          "metadata": {}
        }
      ]
    },
    {
      "cell_type": "markdown",
      "source": [
        "**Save the Model and the Model's Weights for Future use**"
      ],
      "metadata": {
        "id": "nqhi4XQ3GtM5"
      }
    },
    {
      "cell_type": "code",
      "source": [
        "# Save the model and the weights of the model\n",
        "model.save('./my_model')\n",
        "model.save_weights('model_weights.h5')\n"
      ],
      "metadata": {
        "colab": {
          "base_uri": "https://localhost:8080/"
        },
        "id": "TmoA--O5bRKz",
        "outputId": "4c62700c-c85b-4d35-b2c1-a988b8532e29"
      },
      "execution_count": 28,
      "outputs": [
        {
          "output_type": "stream",
          "name": "stderr",
          "text": [
            "WARNING:absl:Found untraced functions such as _update_step_xla, restored_function_body, restored_function_body, restored_function_body, restored_function_body while saving (showing 5 of 365). These functions will not be directly callable after loading.\n"
          ]
        }
      ]
    },
    {
      "cell_type": "code",
      "source": [],
      "metadata": {
        "id": "xYJPJ5IPbRNR"
      },
      "execution_count": 28,
      "outputs": []
    },
    {
      "cell_type": "code",
      "source": [
        "# from tensorflow.keras.models import load_model\n",
        "\n",
        "# # Load the saved model\n",
        "# loaded_model = load_model('./my_model')\n",
        "\n",
        "# Load the saved weights into the model\n",
        "# model.load_weights('model_weights.h5')\n",
        "\n",
        "# # Use the loaded model for prediction or evaluation\n",
        "# predictions = loaded_model.predict([X_test_word_ids, attention_masks_test, token_type_ids_test])\n"
      ],
      "metadata": {
        "id": "AyjSnL9tbRPm"
      },
      "execution_count": 29,
      "outputs": []
    },
    {
      "cell_type": "code",
      "source": [],
      "metadata": {
        "id": "Zm3ymkSlbRSC"
      },
      "execution_count": 29,
      "outputs": []
    },
    {
      "cell_type": "code",
      "source": [],
      "metadata": {
        "id": "bJ3ezK1xbRUO"
      },
      "execution_count": 29,
      "outputs": []
    }
  ]
}